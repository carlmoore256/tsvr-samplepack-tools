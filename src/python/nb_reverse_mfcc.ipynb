{
 "cells": [
  {
   "cell_type": "code",
   "execution_count": null,
   "metadata": {},
   "outputs": [],
   "source": [
    "from librosa.feature.inverse import mfcc_to_audio\n",
    "from utils import display_audio\n",
    "import pandas as pd\n",
    "from signal_processing.features import windowed_mfccs\n",
    "import numpy as np\n",
    "import plotly.express as px"
   ]
  },
  {
   "cell_type": "code",
   "execution_count": null,
   "metadata": {},
   "outputs": [],
   "source": [
    "ws = 16384\n",
    "hop = 8192\n",
    "n_mfcc = 20\n",
    "\n",
    "clip = cloud.clips[2]\n",
    "samples = clip.samples[:, 0:44100]\n",
    "mfccs = windowed_mfccs(samples[0], window_size=ws, hop_size=hop, n_mfcc=n_mfcc)\n"
   ]
  },
  {
   "cell_type": "code",
   "execution_count": null,
   "metadata": {},
   "outputs": [],
   "source": [
    "audio = mfcc_to_audio(mfccs, n_mels=n_mfcc, sr=44100, n_fft=ws, hop_length=hop)"
   ]
  },
  {
   "cell_type": "code",
   "execution_count": null,
   "metadata": {},
   "outputs": [],
   "source": [
    "display_audio(clip.samples)\n",
    "display_audio(audio)"
   ]
  }
 ],
 "metadata": {
  "language_info": {
   "name": "python"
  },
  "orig_nbformat": 4
 },
 "nbformat": 4,
 "nbformat_minor": 2
}
