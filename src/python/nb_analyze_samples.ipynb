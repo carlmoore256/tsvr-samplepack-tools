{
 "cells": [
  {
   "cell_type": "code",
   "execution_count": 1,
   "metadata": {},
   "outputs": [],
   "source": [
    "%load_ext autoreload\n",
    "%autoreload 2"
   ]
  },
  {
   "cell_type": "code",
   "execution_count": 57,
   "metadata": {},
   "outputs": [],
   "source": [
    "from audio_file import read_samples, write_samples, read_concat_samples\n",
    "from signal_processing.features import extract_features\n",
    "from signal_processing.windowing import window_samples\n",
    "from utils import get_files_of_types\n",
    "import definitions\n",
    "\n",
    "import pandas as pd\n",
    "import random\n",
    "import matplotlib.pyplot as plt\n",
    "from IPython.display import Audio, display\n",
    "import plotly.express as px\n",
    "import os\n",
    "\n",
    "from sklearn.cluster import KMeans\n",
    "import numpy as np"
   ]
  },
  {
   "cell_type": "code",
   "execution_count": 3,
   "metadata": {},
   "outputs": [
    {
     "name": "stdout",
     "output_type": "stream",
     "text": [
      "72\n"
     ]
    }
   ],
   "source": [
    "files = get_files_of_types(\"E:/tsvr-samplepack-tools/data/raw/Brass\", definitions.AUDIO_FILE_TYPES)\n",
    "print(len(files))"
   ]
  },
  {
   "cell_type": "code",
   "execution_count": 31,
   "metadata": {},
   "outputs": [],
   "source": [
    "def display_audio(samples, title=\"\", rate=definitions.SAMPLE_RATE):\n",
    "    display(Audio(samples, rate=rate))\n",
    "    plt.title(title)\n",
    "    plt.plot(samples)\n",
    "    plt.show()"
   ]
  },
  {
   "cell_type": "code",
   "execution_count": 8,
   "metadata": {},
   "outputs": [
    {
     "name": "stdout",
     "output_type": "stream",
     "text": [
      "loading sample E:\\tsvr-samplepack-tools\\data\\raw\\Brass\\all_star_brass_sample_library\\brass-b.wav\n"
     ]
    },
    {
     "name": "stderr",
     "output_type": "stream",
     "text": [
      "c:\\Users\\Carl\\AppData\\Local\\Programs\\Python\\Python37\\lib\\site-packages\\librosa\\core\\spectrum.py:224: UserWarning:\n",
      "\n",
      "n_fft=1024 is too small for input signal of length=637\n",
      "\n"
     ]
    },
    {
     "name": "stdout",
     "output_type": "stream",
     "text": [
      "loading sample E:\\tsvr-samplepack-tools\\data\\raw\\Brass\\all_star_brass_sample_library\\brass-b2.wav\n",
      "loading sample E:\\tsvr-samplepack-tools\\data\\raw\\Brass\\all_star_brass_sample_library\\brass-b3.wav\n",
      "loading sample E:\\tsvr-samplepack-tools\\data\\raw\\Brass\\all_star_brass_sample_library\\brass-b4.wav\n",
      "loading sample E:\\tsvr-samplepack-tools\\data\\raw\\Brass\\all_star_brass_sample_library\\brass-c.wav\n",
      "loading sample E:\\tsvr-samplepack-tools\\data\\raw\\Brass\\all_star_brass_sample_library\\brass-d.wav\n",
      "loading sample E:\\tsvr-samplepack-tools\\data\\raw\\Brass\\all_star_brass_sample_library\\brass-d2.wav\n",
      "loading sample E:\\tsvr-samplepack-tools\\data\\raw\\Brass\\all_star_brass_sample_library\\brass-d3.wav\n",
      "loading sample E:\\tsvr-samplepack-tools\\data\\raw\\Brass\\all_star_brass_sample_library\\brass-d4.wav\n",
      "loading sample E:\\tsvr-samplepack-tools\\data\\raw\\Brass\\all_star_brass_sample_library\\brass-d5.wav\n",
      "loading sample E:\\tsvr-samplepack-tools\\data\\raw\\Brass\\all_star_brass_sample_library\\brass-d6.wav\n",
      "loading sample E:\\tsvr-samplepack-tools\\data\\raw\\Brass\\all_star_brass_sample_library\\brass-e.wav\n",
      "loading sample E:\\tsvr-samplepack-tools\\data\\raw\\Brass\\all_star_brass_sample_library\\brass-e2.wav\n",
      "loading sample E:\\tsvr-samplepack-tools\\data\\raw\\Brass\\all_star_brass_sample_library\\brass-e3.wav\n",
      "loading sample E:\\tsvr-samplepack-tools\\data\\raw\\Brass\\all_star_brass_sample_library\\brass-f.wav\n",
      "loading sample E:\\tsvr-samplepack-tools\\data\\raw\\Brass\\all_star_brass_sample_library\\brass-f1.wav\n",
      "loading sample E:\\tsvr-samplepack-tools\\data\\raw\\Brass\\all_star_brass_sample_library\\brass-f2.wav\n",
      "loading sample E:\\tsvr-samplepack-tools\\data\\raw\\Brass\\all_star_brass_sample_library\\brass-g.wav\n"
     ]
    },
    {
     "name": "stderr",
     "output_type": "stream",
     "text": [
      "c:\\Users\\Carl\\AppData\\Local\\Programs\\Python\\Python37\\lib\\site-packages\\librosa\\core\\spectrum.py:224: UserWarning:\n",
      "\n",
      "n_fft=1024 is too small for input signal of length=319\n",
      "\n",
      "c:\\Users\\Carl\\AppData\\Local\\Programs\\Python\\Python37\\lib\\site-packages\\librosa\\core\\spectrum.py:224: UserWarning:\n",
      "\n",
      "n_fft=1024 is too small for input signal of length=160\n",
      "\n"
     ]
    },
    {
     "name": "stdout",
     "output_type": "stream",
     "text": [
      "loading sample E:\\tsvr-samplepack-tools\\data\\raw\\Brass\\all_star_brass_sample_library\\brass-g1.wav\n",
      "loading sample E:\\tsvr-samplepack-tools\\data\\raw\\Brass\\all_star_brass_sample_library\\brass-g2.wav\n",
      "loading sample E:\\tsvr-samplepack-tools\\data\\raw\\Brass\\all_star_brass_sample_library\\brass-g3.wav\n",
      "loading sample E:\\tsvr-samplepack-tools\\data\\raw\\Brass\\all_star_brass_sample_library\\brass-g4.wav\n",
      "loading sample E:\\tsvr-samplepack-tools\\data\\raw\\Brass\\all_star_brass_sample_library\\brass-g5.wav\n",
      "loading sample E:\\tsvr-samplepack-tools\\data\\raw\\Brass\\all_star_brass_sample_library\\brass-g6.wav\n",
      "loading sample E:\\tsvr-samplepack-tools\\data\\raw\\Brass\\all_star_brass_sample_library\\brass-g7.wav\n",
      "loading sample E:\\tsvr-samplepack-tools\\data\\raw\\Brass\\all_star_brass_sample_library\\brass-h.wav\n",
      "loading sample E:\\tsvr-samplepack-tools\\data\\raw\\Brass\\all_star_brass_sample_library\\brass-h1.wav\n",
      "loading sample E:\\tsvr-samplepack-tools\\data\\raw\\Brass\\all_star_brass_sample_library\\brass-h2.wav\n",
      "loading sample E:\\tsvr-samplepack-tools\\data\\raw\\Brass\\all_star_brass_sample_library\\brass-h3.wav\n",
      "loading sample E:\\tsvr-samplepack-tools\\data\\raw\\Brass\\all_star_brass_sample_library\\brass-i.wav\n",
      "loading sample E:\\tsvr-samplepack-tools\\data\\raw\\Brass\\all_star_brass_sample_library\\brass-i10.wav\n",
      "loading sample E:\\tsvr-samplepack-tools\\data\\raw\\Brass\\all_star_brass_sample_library\\brass-i11.wav\n",
      "loading sample E:\\tsvr-samplepack-tools\\data\\raw\\Brass\\all_star_brass_sample_library\\brass-i2.wav\n",
      "loading sample E:\\tsvr-samplepack-tools\\data\\raw\\Brass\\all_star_brass_sample_library\\brass-i3.wav\n",
      "loading sample E:\\tsvr-samplepack-tools\\data\\raw\\Brass\\all_star_brass_sample_library\\brass-i4.wav\n",
      "loading sample E:\\tsvr-samplepack-tools\\data\\raw\\Brass\\all_star_brass_sample_library\\brass-i5.wav\n",
      "loading sample E:\\tsvr-samplepack-tools\\data\\raw\\Brass\\all_star_brass_sample_library\\brass-i6.wav\n",
      "loading sample E:\\tsvr-samplepack-tools\\data\\raw\\Brass\\all_star_brass_sample_library\\brass-i7.wav\n",
      "loading sample E:\\tsvr-samplepack-tools\\data\\raw\\Brass\\all_star_brass_sample_library\\brass-i8.wav\n",
      "loading sample E:\\tsvr-samplepack-tools\\data\\raw\\Brass\\all_star_brass_sample_library\\brass-i9.wav\n",
      "loading sample E:\\tsvr-samplepack-tools\\data\\raw\\Brass\\all_star_brass_sample_library\\brass-long-5.wav\n",
      "loading sample E:\\tsvr-samplepack-tools\\data\\raw\\Brass\\all_star_brass_sample_library\\brass-long.wav\n",
      "loading sample E:\\tsvr-samplepack-tools\\data\\raw\\Brass\\all_star_brass_sample_library\\brass-long10.wav\n",
      "loading sample E:\\tsvr-samplepack-tools\\data\\raw\\Brass\\all_star_brass_sample_library\\brass-long11.wav\n",
      "loading sample E:\\tsvr-samplepack-tools\\data\\raw\\Brass\\all_star_brass_sample_library\\brass-long12.wav\n",
      "loading sample E:\\tsvr-samplepack-tools\\data\\raw\\Brass\\all_star_brass_sample_library\\brass-long13.wav\n",
      "loading sample E:\\tsvr-samplepack-tools\\data\\raw\\Brass\\all_star_brass_sample_library\\brass-long14.wav\n",
      "loading sample E:\\tsvr-samplepack-tools\\data\\raw\\Brass\\all_star_brass_sample_library\\brass-long15.wav\n",
      "loading sample E:\\tsvr-samplepack-tools\\data\\raw\\Brass\\all_star_brass_sample_library\\brass-long2.wav\n",
      "loading sample E:\\tsvr-samplepack-tools\\data\\raw\\Brass\\all_star_brass_sample_library\\brass-long3.wav\n",
      "loading sample E:\\tsvr-samplepack-tools\\data\\raw\\Brass\\all_star_brass_sample_library\\brass-long4.wav\n",
      "loading sample E:\\tsvr-samplepack-tools\\data\\raw\\Brass\\all_star_brass_sample_library\\brass-long6.wav\n",
      "loading sample E:\\tsvr-samplepack-tools\\data\\raw\\Brass\\all_star_brass_sample_library\\brass-long7.wav\n",
      "loading sample E:\\tsvr-samplepack-tools\\data\\raw\\Brass\\all_star_brass_sample_library\\brass-long8.wav\n",
      "loading sample E:\\tsvr-samplepack-tools\\data\\raw\\Brass\\all_star_brass_sample_library\\brass-long9.wav\n",
      "loading sample E:\\tsvr-samplepack-tools\\data\\raw\\Brass\\all_star_brass_sample_library\\brass1.wav\n",
      "loading sample E:\\tsvr-samplepack-tools\\data\\raw\\Brass\\all_star_brass_sample_library\\brass2.wav\n",
      "loading sample E:\\tsvr-samplepack-tools\\data\\raw\\Brass\\all_star_brass_sample_library\\brass3.wav\n",
      "loading sample E:\\tsvr-samplepack-tools\\data\\raw\\Brass\\all_star_brass_sample_library\\brass4.wav\n",
      "loading sample E:\\tsvr-samplepack-tools\\data\\raw\\Brass\\all_star_brass_sample_library\\brass5.wav\n",
      "loading sample E:\\tsvr-samplepack-tools\\data\\raw\\Brass\\all_star_brass_sample_library\\brass6.wav\n",
      "loading sample E:\\tsvr-samplepack-tools\\data\\raw\\Brass\\all_star_brass_sample_library\\brass7.wav\n",
      "loading sample E:\\tsvr-samplepack-tools\\data\\raw\\Brass\\all_star_brass_sample_library\\extras\\bass1.wav\n"
     ]
    },
    {
     "name": "stderr",
     "output_type": "stream",
     "text": [
      "c:\\Users\\Carl\\AppData\\Local\\Programs\\Python\\Python37\\lib\\site-packages\\librosa\\core\\pitch.py:153: UserWarning:\n",
      "\n",
      "Trying to estimate tuning from empty frequency set.\n",
      "\n"
     ]
    },
    {
     "name": "stdout",
     "output_type": "stream",
     "text": [
      "loading sample E:\\tsvr-samplepack-tools\\data\\raw\\Brass\\all_star_brass_sample_library\\extras\\bass1a.wav\n",
      "loading sample E:\\tsvr-samplepack-tools\\data\\raw\\Brass\\all_star_brass_sample_library\\extras\\chord1.wav\n",
      "loading sample E:\\tsvr-samplepack-tools\\data\\raw\\Brass\\all_star_brass_sample_library\\extras\\chord2.wav\n",
      "loading sample E:\\tsvr-samplepack-tools\\data\\raw\\Brass\\all_star_brass_sample_library\\extras\\chord3.wav\n",
      "loading sample E:\\tsvr-samplepack-tools\\data\\raw\\Brass\\all_star_brass_sample_library\\extras\\loop1-130.wav\n",
      "loading sample E:\\tsvr-samplepack-tools\\data\\raw\\Brass\\all_star_brass_sample_library\\extras\\loop1a-130.wav\n",
      "loading sample E:\\tsvr-samplepack-tools\\data\\raw\\Brass\\all_star_brass_sample_library\\extras\\loop1b-130.wav\n",
      "loading sample E:\\tsvr-samplepack-tools\\data\\raw\\Brass\\all_star_brass_sample_library\\extras\\loop1c-130.wav\n",
      "loading sample E:\\tsvr-samplepack-tools\\data\\raw\\Brass\\all_star_brass_sample_library\\extras\\loop1d-130.wav\n"
     ]
    }
   ],
   "source": [
    "all_features = []\n",
    "for f in files:\n",
    "    print(f\"loading sample {f}\")\n",
    "    samples = read_samples(f)\n",
    "    features = extract_features(samples)\n",
    "    all_features.append({'file' : f, **features})\n",
    "    # display_audio(samples, f)\n",
    "df_features = pd.DataFrame(all_features)"
   ]
  },
  {
   "cell_type": "code",
   "execution_count": 50,
   "metadata": {},
   "outputs": [
    {
     "name": "stdout",
     "output_type": "stream",
     "text": [
      "loading sample E:\\tsvr-samplepack-tools\\data\\raw\\Brass\\all_star_brass_sample_library\\brass-b.wav\n",
      "\textracting features for E:\\tsvr-samplepack-tools\\data\\raw\\Brass\\all_star_brass_sample_library\\brass-b.wav window 1/9\n",
      "\textracting features for E:\\tsvr-samplepack-tools\\data\\raw\\Brass\\all_star_brass_sample_library\\brass-b.wav window 2/9\n"
     ]
    },
    {
     "name": "stderr",
     "output_type": "stream",
     "text": [
      "c:\\Users\\Carl\\AppData\\Local\\Programs\\Python\\Python37\\lib\\site-packages\\librosa\\core\\spectrum.py:224: UserWarning:\n",
      "\n",
      "n_fft=1024 is too small for input signal of length=512\n",
      "\n",
      "c:\\Users\\Carl\\AppData\\Local\\Programs\\Python\\Python37\\lib\\site-packages\\librosa\\core\\spectrum.py:224: UserWarning:\n",
      "\n",
      "n_fft=1024 is too small for input signal of length=256\n",
      "\n",
      "c:\\Users\\Carl\\AppData\\Local\\Programs\\Python\\Python37\\lib\\site-packages\\librosa\\core\\spectrum.py:224: UserWarning:\n",
      "\n",
      "n_fft=1024 is too small for input signal of length=128\n",
      "\n",
      "c:\\Users\\Carl\\AppData\\Local\\Programs\\Python\\Python37\\lib\\site-packages\\librosa\\core\\spectrum.py:224: UserWarning:\n",
      "\n",
      "n_fft=1024 is too small for input signal of length=64\n",
      "\n"
     ]
    },
    {
     "name": "stdout",
     "output_type": "stream",
     "text": [
      "\textracting features for E:\\tsvr-samplepack-tools\\data\\raw\\Brass\\all_star_brass_sample_library\\brass-b.wav window 3/9\n",
      "\textracting features for E:\\tsvr-samplepack-tools\\data\\raw\\Brass\\all_star_brass_sample_library\\brass-b.wav window 4/9\n",
      "\textracting features for E:\\tsvr-samplepack-tools\\data\\raw\\Brass\\all_star_brass_sample_library\\brass-b.wav window 5/9\n",
      "\textracting features for E:\\tsvr-samplepack-tools\\data\\raw\\Brass\\all_star_brass_sample_library\\brass-b.wav window 6/9\n",
      "\textracting features for E:\\tsvr-samplepack-tools\\data\\raw\\Brass\\all_star_brass_sample_library\\brass-b.wav window 7/9\n",
      "\textracting features for E:\\tsvr-samplepack-tools\\data\\raw\\Brass\\all_star_brass_sample_library\\brass-b.wav window 8/9\n",
      "\textracting features for E:\\tsvr-samplepack-tools\\data\\raw\\Brass\\all_star_brass_sample_library\\brass-b.wav window 9/9\n",
      "loading sample E:\\tsvr-samplepack-tools\\data\\raw\\Brass\\all_star_brass_sample_library\\brass-b2.wav\n",
      "\textracting features for E:\\tsvr-samplepack-tools\\data\\raw\\Brass\\all_star_brass_sample_library\\brass-b2.wav window 1/9\n",
      "\textracting features for E:\\tsvr-samplepack-tools\\data\\raw\\Brass\\all_star_brass_sample_library\\brass-b2.wav window 2/9\n",
      "\textracting features for E:\\tsvr-samplepack-tools\\data\\raw\\Brass\\all_star_brass_sample_library\\brass-b2.wav window 3/9\n",
      "\textracting features for E:\\tsvr-samplepack-tools\\data\\raw\\Brass\\all_star_brass_sample_library\\brass-b2.wav window 4/9\n",
      "\textracting features for E:\\tsvr-samplepack-tools\\data\\raw\\Brass\\all_star_brass_sample_library\\brass-b2.wav window 5/9\n",
      "\textracting features for E:\\tsvr-samplepack-tools\\data\\raw\\Brass\\all_star_brass_sample_library\\brass-b2.wav window 6/9\n",
      "\textracting features for E:\\tsvr-samplepack-tools\\data\\raw\\Brass\\all_star_brass_sample_library\\brass-b2.wav window 7/9\n",
      "\textracting features for E:\\tsvr-samplepack-tools\\data\\raw\\Brass\\all_star_brass_sample_library\\brass-b2.wav window 8/9\n",
      "\textracting features for E:\\tsvr-samplepack-tools\\data\\raw\\Brass\\all_star_brass_sample_library\\brass-b2.wav window 9/9\n",
      "loading sample E:\\tsvr-samplepack-tools\\data\\raw\\Brass\\all_star_brass_sample_library\\brass-b3.wav\n",
      "\textracting features for E:\\tsvr-samplepack-tools\\data\\raw\\Brass\\all_star_brass_sample_library\\brass-b3.wav window 1/9\n",
      "\textracting features for E:\\tsvr-samplepack-tools\\data\\raw\\Brass\\all_star_brass_sample_library\\brass-b3.wav window 2/9\n",
      "\textracting features for E:\\tsvr-samplepack-tools\\data\\raw\\Brass\\all_star_brass_sample_library\\brass-b3.wav window 3/9\n",
      "\textracting features for E:\\tsvr-samplepack-tools\\data\\raw\\Brass\\all_star_brass_sample_library\\brass-b3.wav window 4/9\n",
      "\textracting features for E:\\tsvr-samplepack-tools\\data\\raw\\Brass\\all_star_brass_sample_library\\brass-b3.wav window 5/9\n",
      "\textracting features for E:\\tsvr-samplepack-tools\\data\\raw\\Brass\\all_star_brass_sample_library\\brass-b3.wav window 6/9\n",
      "\textracting features for E:\\tsvr-samplepack-tools\\data\\raw\\Brass\\all_star_brass_sample_library\\brass-b3.wav window 7/9\n",
      "\textracting features for E:\\tsvr-samplepack-tools\\data\\raw\\Brass\\all_star_brass_sample_library\\brass-b3.wav window 8/9\n",
      "\textracting features for E:\\tsvr-samplepack-tools\\data\\raw\\Brass\\all_star_brass_sample_library\\brass-b3.wav window 9/9\n",
      "loading sample E:\\tsvr-samplepack-tools\\data\\raw\\Brass\\all_star_brass_sample_library\\brass-b4.wav\n",
      "\textracting features for E:\\tsvr-samplepack-tools\\data\\raw\\Brass\\all_star_brass_sample_library\\brass-b4.wav window 1/9\n",
      "\textracting features for E:\\tsvr-samplepack-tools\\data\\raw\\Brass\\all_star_brass_sample_library\\brass-b4.wav window 2/9\n",
      "\textracting features for E:\\tsvr-samplepack-tools\\data\\raw\\Brass\\all_star_brass_sample_library\\brass-b4.wav window 3/9\n",
      "\textracting features for E:\\tsvr-samplepack-tools\\data\\raw\\Brass\\all_star_brass_sample_library\\brass-b4.wav window 4/9\n",
      "\textracting features for E:\\tsvr-samplepack-tools\\data\\raw\\Brass\\all_star_brass_sample_library\\brass-b4.wav window 5/9\n",
      "\textracting features for E:\\tsvr-samplepack-tools\\data\\raw\\Brass\\all_star_brass_sample_library\\brass-b4.wav window 6/9\n",
      "\textracting features for E:\\tsvr-samplepack-tools\\data\\raw\\Brass\\all_star_brass_sample_library\\brass-b4.wav window 7/9\n",
      "\textracting features for E:\\tsvr-samplepack-tools\\data\\raw\\Brass\\all_star_brass_sample_library\\brass-b4.wav window 8/9\n",
      "\textracting features for E:\\tsvr-samplepack-tools\\data\\raw\\Brass\\all_star_brass_sample_library\\brass-b4.wav window 9/9\n",
      "loading sample E:\\tsvr-samplepack-tools\\data\\raw\\Brass\\all_star_brass_sample_library\\brass-c.wav\n",
      "\textracting features for E:\\tsvr-samplepack-tools\\data\\raw\\Brass\\all_star_brass_sample_library\\brass-c.wav window 1/9\n",
      "\textracting features for E:\\tsvr-samplepack-tools\\data\\raw\\Brass\\all_star_brass_sample_library\\brass-c.wav window 2/9\n",
      "\textracting features for E:\\tsvr-samplepack-tools\\data\\raw\\Brass\\all_star_brass_sample_library\\brass-c.wav window 3/9\n",
      "\textracting features for E:\\tsvr-samplepack-tools\\data\\raw\\Brass\\all_star_brass_sample_library\\brass-c.wav window 4/9\n",
      "\textracting features for E:\\tsvr-samplepack-tools\\data\\raw\\Brass\\all_star_brass_sample_library\\brass-c.wav window 5/9\n",
      "\textracting features for E:\\tsvr-samplepack-tools\\data\\raw\\Brass\\all_star_brass_sample_library\\brass-c.wav window 6/9\n",
      "\textracting features for E:\\tsvr-samplepack-tools\\data\\raw\\Brass\\all_star_brass_sample_library\\brass-c.wav window 7/9\n",
      "\textracting features for E:\\tsvr-samplepack-tools\\data\\raw\\Brass\\all_star_brass_sample_library\\brass-c.wav window 8/9\n",
      "\textracting features for E:\\tsvr-samplepack-tools\\data\\raw\\Brass\\all_star_brass_sample_library\\brass-c.wav window 9/9\n",
      "loading sample E:\\tsvr-samplepack-tools\\data\\raw\\Brass\\all_star_brass_sample_library\\brass-d.wav\n",
      "\textracting features for E:\\tsvr-samplepack-tools\\data\\raw\\Brass\\all_star_brass_sample_library\\brass-d.wav window 1/9\n",
      "\textracting features for E:\\tsvr-samplepack-tools\\data\\raw\\Brass\\all_star_brass_sample_library\\brass-d.wav window 2/9\n",
      "\textracting features for E:\\tsvr-samplepack-tools\\data\\raw\\Brass\\all_star_brass_sample_library\\brass-d.wav window 3/9\n",
      "\textracting features for E:\\tsvr-samplepack-tools\\data\\raw\\Brass\\all_star_brass_sample_library\\brass-d.wav window 4/9\n",
      "\textracting features for E:\\tsvr-samplepack-tools\\data\\raw\\Brass\\all_star_brass_sample_library\\brass-d.wav window 5/9\n",
      "\textracting features for E:\\tsvr-samplepack-tools\\data\\raw\\Brass\\all_star_brass_sample_library\\brass-d.wav window 6/9\n",
      "\textracting features for E:\\tsvr-samplepack-tools\\data\\raw\\Brass\\all_star_brass_sample_library\\brass-d.wav window 7/9\n",
      "\textracting features for E:\\tsvr-samplepack-tools\\data\\raw\\Brass\\all_star_brass_sample_library\\brass-d.wav window 8/9\n",
      "\textracting features for E:\\tsvr-samplepack-tools\\data\\raw\\Brass\\all_star_brass_sample_library\\brass-d.wav window 9/9\n",
      "loading sample E:\\tsvr-samplepack-tools\\data\\raw\\Brass\\all_star_brass_sample_library\\brass-d2.wav\n",
      "\textracting features for E:\\tsvr-samplepack-tools\\data\\raw\\Brass\\all_star_brass_sample_library\\brass-d2.wav window 1/9\n",
      "\textracting features for E:\\tsvr-samplepack-tools\\data\\raw\\Brass\\all_star_brass_sample_library\\brass-d2.wav window 2/9\n",
      "\textracting features for E:\\tsvr-samplepack-tools\\data\\raw\\Brass\\all_star_brass_sample_library\\brass-d2.wav window 3/9\n",
      "\textracting features for E:\\tsvr-samplepack-tools\\data\\raw\\Brass\\all_star_brass_sample_library\\brass-d2.wav window 4/9\n",
      "\textracting features for E:\\tsvr-samplepack-tools\\data\\raw\\Brass\\all_star_brass_sample_library\\brass-d2.wav window 5/9\n",
      "\textracting features for E:\\tsvr-samplepack-tools\\data\\raw\\Brass\\all_star_brass_sample_library\\brass-d2.wav window 6/9\n",
      "\textracting features for E:\\tsvr-samplepack-tools\\data\\raw\\Brass\\all_star_brass_sample_library\\brass-d2.wav window 7/9\n",
      "\textracting features for E:\\tsvr-samplepack-tools\\data\\raw\\Brass\\all_star_brass_sample_library\\brass-d2.wav window 8/9\n",
      "\textracting features for E:\\tsvr-samplepack-tools\\data\\raw\\Brass\\all_star_brass_sample_library\\brass-d2.wav window 9/9\n",
      "loading sample E:\\tsvr-samplepack-tools\\data\\raw\\Brass\\all_star_brass_sample_library\\brass-d3.wav\n",
      "\textracting features for E:\\tsvr-samplepack-tools\\data\\raw\\Brass\\all_star_brass_sample_library\\brass-d3.wav window 1/9\n",
      "\textracting features for E:\\tsvr-samplepack-tools\\data\\raw\\Brass\\all_star_brass_sample_library\\brass-d3.wav window 2/9\n",
      "\textracting features for E:\\tsvr-samplepack-tools\\data\\raw\\Brass\\all_star_brass_sample_library\\brass-d3.wav window 3/9\n",
      "\textracting features for E:\\tsvr-samplepack-tools\\data\\raw\\Brass\\all_star_brass_sample_library\\brass-d3.wav window 4/9\n",
      "\textracting features for E:\\tsvr-samplepack-tools\\data\\raw\\Brass\\all_star_brass_sample_library\\brass-d3.wav window 5/9\n",
      "\textracting features for E:\\tsvr-samplepack-tools\\data\\raw\\Brass\\all_star_brass_sample_library\\brass-d3.wav window 6/9\n",
      "\textracting features for E:\\tsvr-samplepack-tools\\data\\raw\\Brass\\all_star_brass_sample_library\\brass-d3.wav window 7/9\n",
      "\textracting features for E:\\tsvr-samplepack-tools\\data\\raw\\Brass\\all_star_brass_sample_library\\brass-d3.wav window 8/9\n",
      "\textracting features for E:\\tsvr-samplepack-tools\\data\\raw\\Brass\\all_star_brass_sample_library\\brass-d3.wav window 9/9\n",
      "loading sample E:\\tsvr-samplepack-tools\\data\\raw\\Brass\\all_star_brass_sample_library\\brass-d4.wav\n",
      "\textracting features for E:\\tsvr-samplepack-tools\\data\\raw\\Brass\\all_star_brass_sample_library\\brass-d4.wav window 1/9\n",
      "\textracting features for E:\\tsvr-samplepack-tools\\data\\raw\\Brass\\all_star_brass_sample_library\\brass-d4.wav window 2/9\n",
      "\textracting features for E:\\tsvr-samplepack-tools\\data\\raw\\Brass\\all_star_brass_sample_library\\brass-d4.wav window 3/9\n",
      "\textracting features for E:\\tsvr-samplepack-tools\\data\\raw\\Brass\\all_star_brass_sample_library\\brass-d4.wav window 4/9\n",
      "\textracting features for E:\\tsvr-samplepack-tools\\data\\raw\\Brass\\all_star_brass_sample_library\\brass-d4.wav window 5/9\n",
      "\textracting features for E:\\tsvr-samplepack-tools\\data\\raw\\Brass\\all_star_brass_sample_library\\brass-d4.wav window 6/9\n",
      "\textracting features for E:\\tsvr-samplepack-tools\\data\\raw\\Brass\\all_star_brass_sample_library\\brass-d4.wav window 7/9\n",
      "\textracting features for E:\\tsvr-samplepack-tools\\data\\raw\\Brass\\all_star_brass_sample_library\\brass-d4.wav window 8/9\n",
      "\textracting features for E:\\tsvr-samplepack-tools\\data\\raw\\Brass\\all_star_brass_sample_library\\brass-d4.wav window 9/9\n",
      "loading sample E:\\tsvr-samplepack-tools\\data\\raw\\Brass\\all_star_brass_sample_library\\brass-d5.wav\n",
      "\textracting features for E:\\tsvr-samplepack-tools\\data\\raw\\Brass\\all_star_brass_sample_library\\brass-d5.wav window 1/9\n",
      "\textracting features for E:\\tsvr-samplepack-tools\\data\\raw\\Brass\\all_star_brass_sample_library\\brass-d5.wav window 2/9\n",
      "\textracting features for E:\\tsvr-samplepack-tools\\data\\raw\\Brass\\all_star_brass_sample_library\\brass-d5.wav window 3/9\n",
      "\textracting features for E:\\tsvr-samplepack-tools\\data\\raw\\Brass\\all_star_brass_sample_library\\brass-d5.wav window 4/9\n",
      "\textracting features for E:\\tsvr-samplepack-tools\\data\\raw\\Brass\\all_star_brass_sample_library\\brass-d5.wav window 5/9\n",
      "\textracting features for E:\\tsvr-samplepack-tools\\data\\raw\\Brass\\all_star_brass_sample_library\\brass-d5.wav window 6/9\n",
      "\textracting features for E:\\tsvr-samplepack-tools\\data\\raw\\Brass\\all_star_brass_sample_library\\brass-d5.wav window 7/9\n",
      "\textracting features for E:\\tsvr-samplepack-tools\\data\\raw\\Brass\\all_star_brass_sample_library\\brass-d5.wav window 8/9\n",
      "\textracting features for E:\\tsvr-samplepack-tools\\data\\raw\\Brass\\all_star_brass_sample_library\\brass-d5.wav window 9/9\n"
     ]
    }
   ],
   "source": [
    "win_size = 8192\n",
    "hop_size = 8192\n",
    "\n",
    "all_features = []\n",
    "for f in files[:10]:\n",
    "    print(f\"loading sample {f}\")\n",
    "    samples = read_samples(f)\n",
    "    windowed_samples = window_samples(samples, win_size, hop_size, window_type=\"rectangular\")\n",
    "    for i, win in enumerate(windowed_samples):\n",
    "        win = np.nan_to_num(win)\n",
    "        print(f\"\\textracting features for {f} window {i+1}/{len(windowed_samples)}\")\n",
    "        try:\n",
    "            features = extract_features(win)\n",
    "            all_features.append({'file' : f, 'window' : i, **features})\n",
    "        except Exception as e:\n",
    "            print(f\"failed to extract features for {f} window {i} | {e}\")\n",
    "df_features = pd.DataFrame(all_features)"
   ]
  },
  {
   "cell_type": "code",
   "execution_count": 51,
   "metadata": {},
   "outputs": [
    {
     "data": {
      "text/html": [
       "<div>\n",
       "<style scoped>\n",
       "    .dataframe tbody tr th:only-of-type {\n",
       "        vertical-align: middle;\n",
       "    }\n",
       "\n",
       "    .dataframe tbody tr th {\n",
       "        vertical-align: top;\n",
       "    }\n",
       "\n",
       "    .dataframe thead th {\n",
       "        text-align: right;\n",
       "    }\n",
       "</style>\n",
       "<table border=\"1\" class=\"dataframe\">\n",
       "  <thead>\n",
       "    <tr style=\"text-align: right;\">\n",
       "      <th></th>\n",
       "      <th>file</th>\n",
       "      <th>window</th>\n",
       "      <th>mfccs</th>\n",
       "      <th>chroma</th>\n",
       "      <th>mel</th>\n",
       "      <th>contrast</th>\n",
       "      <th>tonnetz</th>\n",
       "      <th>rms</th>\n",
       "    </tr>\n",
       "  </thead>\n",
       "  <tbody>\n",
       "    <tr>\n",
       "      <th>0</th>\n",
       "      <td>E:\\tsvr-samplepack-tools\\data\\raw\\Brass\\all_st...</td>\n",
       "      <td>0</td>\n",
       "      <td>[-232.01310913306943, 120.66579996402965, -60....</td>\n",
       "      <td>[0.3967990956683389, 0.6040027913429519, 0.573...</td>\n",
       "      <td>[0.06916610238547312, 0.08406706636959606, 0.0...</td>\n",
       "      <td>[11.418218421371284, 21.434380176587542, 18.93...</td>\n",
       "      <td>[-0.12113469813531813, -0.09364865493837603, -...</td>\n",
       "      <td>0.093245</td>\n",
       "    </tr>\n",
       "    <tr>\n",
       "      <th>1</th>\n",
       "      <td>E:\\tsvr-samplepack-tools\\data\\raw\\Brass\\all_st...</td>\n",
       "      <td>1</td>\n",
       "      <td>[-218.75316540602742, 162.86763747905246, -76....</td>\n",
       "      <td>[0.3673582767315697, 0.6508883557974113, 0.546...</td>\n",
       "      <td>[0.07110124407574413, 0.08588177312326024, 0.0...</td>\n",
       "      <td>[8.457770628196302, 21.472508962389583, 23.387...</td>\n",
       "      <td>[-0.2086500313730375, -0.10932808061650123, -0...</td>\n",
       "      <td>0.103662</td>\n",
       "    </tr>\n",
       "    <tr>\n",
       "      <th>2</th>\n",
       "      <td>E:\\tsvr-samplepack-tools\\data\\raw\\Brass\\all_st...</td>\n",
       "      <td>2</td>\n",
       "      <td>[-407.75539637418296, 195.98089724605978, -50....</td>\n",
       "      <td>[0.38789383230425073, 0.6777533738872594, 0.41...</td>\n",
       "      <td>[0.0013741447481546453, 0.0016602026793539994,...</td>\n",
       "      <td>[9.263397543333227, 19.328686487326586, 24.531...</td>\n",
       "      <td>[-0.24478137624737292, -0.0853214424163132, -0...</td>\n",
       "      <td>0.049890</td>\n",
       "    </tr>\n",
       "    <tr>\n",
       "      <th>3</th>\n",
       "      <td>E:\\tsvr-samplepack-tools\\data\\raw\\Brass\\all_st...</td>\n",
       "      <td>3</td>\n",
       "      <td>[-710.8304889576202, 218.62484354769717, -76.0...</td>\n",
       "      <td>[0.35104417338742266, 0.4611159957039425, 0.25...</td>\n",
       "      <td>[9.470949923443859e-06, 1.1231512271226472e-05...</td>\n",
       "      <td>[9.99957955077119, 20.34710488707536, 25.78276...</td>\n",
       "      <td>[-0.26628122920016867, -0.10708566490500211, -...</td>\n",
       "      <td>0.001479</td>\n",
       "    </tr>\n",
       "    <tr>\n",
       "      <th>4</th>\n",
       "      <td>E:\\tsvr-samplepack-tools\\data\\raw\\Brass\\all_st...</td>\n",
       "      <td>4</td>\n",
       "      <td>[-765.3906052310367, 219.95197881131745, -70.4...</td>\n",
       "      <td>[0.38949312873210207, 0.736205128313573, 0.377...</td>\n",
       "      <td>[1.5323365398007995e-07, 1.9012131479821353e-0...</td>\n",
       "      <td>[12.895074828648875, 20.301617979901327, 24.55...</td>\n",
       "      <td>[-0.2906495944221921, -0.06516533311125251, -0...</td>\n",
       "      <td>0.000841</td>\n",
       "    </tr>\n",
       "    <tr>\n",
       "      <th>...</th>\n",
       "      <td>...</td>\n",
       "      <td>...</td>\n",
       "      <td>...</td>\n",
       "      <td>...</td>\n",
       "      <td>...</td>\n",
       "      <td>...</td>\n",
       "      <td>...</td>\n",
       "      <td>...</td>\n",
       "    </tr>\n",
       "    <tr>\n",
       "      <th>85</th>\n",
       "      <td>E:\\tsvr-samplepack-tools\\data\\raw\\Brass\\all_st...</td>\n",
       "      <td>4</td>\n",
       "      <td>[-529.4832750746937, 296.9529808152008, -13.84...</td>\n",
       "      <td>[0.87121047278153, 0.7356934826910814, 0.78014...</td>\n",
       "      <td>[0.0013016305209247864, 0.025364898178201742, ...</td>\n",
       "      <td>[24.865992233920903, 8.298176301834491, 11.255...</td>\n",
       "      <td>[-0.0036712272228579383, -0.09576780984874379,...</td>\n",
       "      <td>0.009455</td>\n",
       "    </tr>\n",
       "    <tr>\n",
       "      <th>86</th>\n",
       "      <td>E:\\tsvr-samplepack-tools\\data\\raw\\Brass\\all_st...</td>\n",
       "      <td>5</td>\n",
       "      <td>[-568.8787458709991, 294.46450158904486, -11.5...</td>\n",
       "      <td>[0.6836193932789323, 0.6318128169176017, 0.717...</td>\n",
       "      <td>[0.001748108408210426, 0.003922891403649032, 0...</td>\n",
       "      <td>[24.418024482060755, 9.568284776529012, 11.761...</td>\n",
       "      <td>[-0.010877294323543809, -0.12246770696059857, ...</td>\n",
       "      <td>0.006150</td>\n",
       "    </tr>\n",
       "    <tr>\n",
       "      <th>87</th>\n",
       "      <td>E:\\tsvr-samplepack-tools\\data\\raw\\Brass\\all_st...</td>\n",
       "      <td>6</td>\n",
       "      <td>[-613.9826209043803, 303.6667905041437, -3.885...</td>\n",
       "      <td>[0.768670326675118, 0.7638675100410028, 0.7445...</td>\n",
       "      <td>[0.0013982124956125345, 0.0037272307679029077,...</td>\n",
       "      <td>[24.423810243072523, 7.1346853522496385, 13.16...</td>\n",
       "      <td>[-0.036506461677983874, -0.10357778253466275, ...</td>\n",
       "      <td>0.004742</td>\n",
       "    </tr>\n",
       "    <tr>\n",
       "      <th>88</th>\n",
       "      <td>E:\\tsvr-samplepack-tools\\data\\raw\\Brass\\all_st...</td>\n",
       "      <td>7</td>\n",
       "      <td>[-653.5757431210101, 307.41329899704033, 5.259...</td>\n",
       "      <td>[0.7899101434831105, 0.7995901406969819, 0.827...</td>\n",
       "      <td>[0.00010502415790768129, 0.002157423116784127,...</td>\n",
       "      <td>[24.422167517101066, 7.888165321937837, 12.540...</td>\n",
       "      <td>[-0.09245950713868258, -0.14844447502242786, -...</td>\n",
       "      <td>0.003383</td>\n",
       "    </tr>\n",
       "    <tr>\n",
       "      <th>89</th>\n",
       "      <td>E:\\tsvr-samplepack-tools\\data\\raw\\Brass\\all_st...</td>\n",
       "      <td>8</td>\n",
       "      <td>[-685.9236313150514, 297.930061577124, 16.7639...</td>\n",
       "      <td>[0.7440568226452494, 0.7267508393533094, 0.798...</td>\n",
       "      <td>[6.898034801889949e-05, 0.0008731431484520877,...</td>\n",
       "      <td>[21.47581485247378, 9.52550372450828, 12.43384...</td>\n",
       "      <td>[-0.1580116125469805, -0.18334195745341964, 0....</td>\n",
       "      <td>0.002603</td>\n",
       "    </tr>\n",
       "  </tbody>\n",
       "</table>\n",
       "<p>90 rows × 8 columns</p>\n",
       "</div>"
      ],
      "text/plain": [
       "                                                 file  window  \\\n",
       "0   E:\\tsvr-samplepack-tools\\data\\raw\\Brass\\all_st...       0   \n",
       "1   E:\\tsvr-samplepack-tools\\data\\raw\\Brass\\all_st...       1   \n",
       "2   E:\\tsvr-samplepack-tools\\data\\raw\\Brass\\all_st...       2   \n",
       "3   E:\\tsvr-samplepack-tools\\data\\raw\\Brass\\all_st...       3   \n",
       "4   E:\\tsvr-samplepack-tools\\data\\raw\\Brass\\all_st...       4   \n",
       "..                                                ...     ...   \n",
       "85  E:\\tsvr-samplepack-tools\\data\\raw\\Brass\\all_st...       4   \n",
       "86  E:\\tsvr-samplepack-tools\\data\\raw\\Brass\\all_st...       5   \n",
       "87  E:\\tsvr-samplepack-tools\\data\\raw\\Brass\\all_st...       6   \n",
       "88  E:\\tsvr-samplepack-tools\\data\\raw\\Brass\\all_st...       7   \n",
       "89  E:\\tsvr-samplepack-tools\\data\\raw\\Brass\\all_st...       8   \n",
       "\n",
       "                                                mfccs  \\\n",
       "0   [-232.01310913306943, 120.66579996402965, -60....   \n",
       "1   [-218.75316540602742, 162.86763747905246, -76....   \n",
       "2   [-407.75539637418296, 195.98089724605978, -50....   \n",
       "3   [-710.8304889576202, 218.62484354769717, -76.0...   \n",
       "4   [-765.3906052310367, 219.95197881131745, -70.4...   \n",
       "..                                                ...   \n",
       "85  [-529.4832750746937, 296.9529808152008, -13.84...   \n",
       "86  [-568.8787458709991, 294.46450158904486, -11.5...   \n",
       "87  [-613.9826209043803, 303.6667905041437, -3.885...   \n",
       "88  [-653.5757431210101, 307.41329899704033, 5.259...   \n",
       "89  [-685.9236313150514, 297.930061577124, 16.7639...   \n",
       "\n",
       "                                               chroma  \\\n",
       "0   [0.3967990956683389, 0.6040027913429519, 0.573...   \n",
       "1   [0.3673582767315697, 0.6508883557974113, 0.546...   \n",
       "2   [0.38789383230425073, 0.6777533738872594, 0.41...   \n",
       "3   [0.35104417338742266, 0.4611159957039425, 0.25...   \n",
       "4   [0.38949312873210207, 0.736205128313573, 0.377...   \n",
       "..                                                ...   \n",
       "85  [0.87121047278153, 0.7356934826910814, 0.78014...   \n",
       "86  [0.6836193932789323, 0.6318128169176017, 0.717...   \n",
       "87  [0.768670326675118, 0.7638675100410028, 0.7445...   \n",
       "88  [0.7899101434831105, 0.7995901406969819, 0.827...   \n",
       "89  [0.7440568226452494, 0.7267508393533094, 0.798...   \n",
       "\n",
       "                                                  mel  \\\n",
       "0   [0.06916610238547312, 0.08406706636959606, 0.0...   \n",
       "1   [0.07110124407574413, 0.08588177312326024, 0.0...   \n",
       "2   [0.0013741447481546453, 0.0016602026793539994,...   \n",
       "3   [9.470949923443859e-06, 1.1231512271226472e-05...   \n",
       "4   [1.5323365398007995e-07, 1.9012131479821353e-0...   \n",
       "..                                                ...   \n",
       "85  [0.0013016305209247864, 0.025364898178201742, ...   \n",
       "86  [0.001748108408210426, 0.003922891403649032, 0...   \n",
       "87  [0.0013982124956125345, 0.0037272307679029077,...   \n",
       "88  [0.00010502415790768129, 0.002157423116784127,...   \n",
       "89  [6.898034801889949e-05, 0.0008731431484520877,...   \n",
       "\n",
       "                                             contrast  \\\n",
       "0   [11.418218421371284, 21.434380176587542, 18.93...   \n",
       "1   [8.457770628196302, 21.472508962389583, 23.387...   \n",
       "2   [9.263397543333227, 19.328686487326586, 24.531...   \n",
       "3   [9.99957955077119, 20.34710488707536, 25.78276...   \n",
       "4   [12.895074828648875, 20.301617979901327, 24.55...   \n",
       "..                                                ...   \n",
       "85  [24.865992233920903, 8.298176301834491, 11.255...   \n",
       "86  [24.418024482060755, 9.568284776529012, 11.761...   \n",
       "87  [24.423810243072523, 7.1346853522496385, 13.16...   \n",
       "88  [24.422167517101066, 7.888165321937837, 12.540...   \n",
       "89  [21.47581485247378, 9.52550372450828, 12.43384...   \n",
       "\n",
       "                                              tonnetz       rms  \n",
       "0   [-0.12113469813531813, -0.09364865493837603, -...  0.093245  \n",
       "1   [-0.2086500313730375, -0.10932808061650123, -0...  0.103662  \n",
       "2   [-0.24478137624737292, -0.0853214424163132, -0...  0.049890  \n",
       "3   [-0.26628122920016867, -0.10708566490500211, -...  0.001479  \n",
       "4   [-0.2906495944221921, -0.06516533311125251, -0...  0.000841  \n",
       "..                                                ...       ...  \n",
       "85  [-0.0036712272228579383, -0.09576780984874379,...  0.009455  \n",
       "86  [-0.010877294323543809, -0.12246770696059857, ...  0.006150  \n",
       "87  [-0.036506461677983874, -0.10357778253466275, ...  0.004742  \n",
       "88  [-0.09245950713868258, -0.14844447502242786, -...  0.003383  \n",
       "89  [-0.1580116125469805, -0.18334195745341964, 0....  0.002603  \n",
       "\n",
       "[90 rows x 8 columns]"
      ]
     },
     "execution_count": 51,
     "metadata": {},
     "output_type": "execute_result"
    }
   ],
   "source": [
    "df_features"
   ]
  },
  {
   "cell_type": "code",
   "execution_count": 52,
   "metadata": {},
   "outputs": [],
   "source": [
    "def kmeans_quantize_distances(df, cluster_by, cluster_ratio=0.3):\n",
    "    new_df = df.copy()\n",
    "    X = np.array([np.asarray(x) for x in df[cluster_by]])\n",
    "    K = int(len(X) * cluster_ratio)\n",
    "    kmeans = KMeans(n_clusters=K, random_state=0).fit(X)\n",
    "    transformed = kmeans.transform(X)\n",
    "    labels = np.argmin(transformed, axis=1)\n",
    "    for idx, label in enumerate(labels):\n",
    "        new_df.loc[idx, 'label'] = label\n",
    "        new_df.loc[idx, 'distance'] = transformed[idx, label]\n",
    "    return new_df\n",
    "\n",
    "df_dists = kmeans_quantize_distances(df_features, 'mfccs', 0.1)\n",
    "# df_dists[df_dists.label == 4].sort_values('distance', ascending=True)"
   ]
  },
  {
   "cell_type": "code",
   "execution_count": 53,
   "metadata": {},
   "outputs": [
    {
     "data": {
      "application/vnd.plotly.v1+json": {
       "config": {
        "plotlyServerURL": "https://plot.ly"
       },
       "data": [
        {
         "customdata": [
          [
           "E:\\tsvr-samplepack-tools\\data\\raw\\Brass\\all_star_brass_sample_library\\brass-b.wav",
           56.78772773376513
          ],
          [
           "E:\\tsvr-samplepack-tools\\data\\raw\\Brass\\all_star_brass_sample_library\\brass-b.wav",
           73.63037881109423
          ],
          [
           "E:\\tsvr-samplepack-tools\\data\\raw\\Brass\\all_star_brass_sample_library\\brass-b.wav",
           68.98914615111794
          ],
          [
           "E:\\tsvr-samplepack-tools\\data\\raw\\Brass\\all_star_brass_sample_library\\brass-b.wav",
           67.53637936053731
          ],
          [
           "E:\\tsvr-samplepack-tools\\data\\raw\\Brass\\all_star_brass_sample_library\\brass-b.wav",
           65.12817424996675
          ],
          [
           "E:\\tsvr-samplepack-tools\\data\\raw\\Brass\\all_star_brass_sample_library\\brass-b.wav",
           67.54161299818554
          ],
          [
           "E:\\tsvr-samplepack-tools\\data\\raw\\Brass\\all_star_brass_sample_library\\brass-b.wav",
           50.28685965862676
          ],
          [
           "E:\\tsvr-samplepack-tools\\data\\raw\\Brass\\all_star_brass_sample_library\\brass-b.wav",
           46.532667932243406
          ],
          [
           "E:\\tsvr-samplepack-tools\\data\\raw\\Brass\\all_star_brass_sample_library\\brass-b.wav",
           73.03563042075226
          ],
          [
           "E:\\tsvr-samplepack-tools\\data\\raw\\Brass\\all_star_brass_sample_library\\brass-b2.wav",
           61.51663077639227
          ],
          [
           "E:\\tsvr-samplepack-tools\\data\\raw\\Brass\\all_star_brass_sample_library\\brass-b2.wav",
           64.30108986919224
          ],
          [
           "E:\\tsvr-samplepack-tools\\data\\raw\\Brass\\all_star_brass_sample_library\\brass-b2.wav",
           88.84215395464386
          ],
          [
           "E:\\tsvr-samplepack-tools\\data\\raw\\Brass\\all_star_brass_sample_library\\brass-b2.wav",
           59.466193868887814
          ],
          [
           "E:\\tsvr-samplepack-tools\\data\\raw\\Brass\\all_star_brass_sample_library\\brass-b2.wav",
           62.45752993855664
          ],
          [
           "E:\\tsvr-samplepack-tools\\data\\raw\\Brass\\all_star_brass_sample_library\\brass-b2.wav",
           79.55726137536492
          ],
          [
           "E:\\tsvr-samplepack-tools\\data\\raw\\Brass\\all_star_brass_sample_library\\brass-b2.wav",
           62.12092761309331
          ],
          [
           "E:\\tsvr-samplepack-tools\\data\\raw\\Brass\\all_star_brass_sample_library\\brass-b2.wav",
           59.7272308544376
          ],
          [
           "E:\\tsvr-samplepack-tools\\data\\raw\\Brass\\all_star_brass_sample_library\\brass-b2.wav",
           74.94397181521673
          ],
          [
           "E:\\tsvr-samplepack-tools\\data\\raw\\Brass\\all_star_brass_sample_library\\brass-b3.wav",
           65.67045499528756
          ],
          [
           "E:\\tsvr-samplepack-tools\\data\\raw\\Brass\\all_star_brass_sample_library\\brass-b3.wav",
           80.3928745208947
          ],
          [
           "E:\\tsvr-samplepack-tools\\data\\raw\\Brass\\all_star_brass_sample_library\\brass-b3.wav",
           102.7672295726595
          ],
          [
           "E:\\tsvr-samplepack-tools\\data\\raw\\Brass\\all_star_brass_sample_library\\brass-b3.wav",
           68.7095843034117
          ],
          [
           "E:\\tsvr-samplepack-tools\\data\\raw\\Brass\\all_star_brass_sample_library\\brass-b3.wav",
           76.45436987433045
          ],
          [
           "E:\\tsvr-samplepack-tools\\data\\raw\\Brass\\all_star_brass_sample_library\\brass-b3.wav",
           73.85528810516455
          ],
          [
           "E:\\tsvr-samplepack-tools\\data\\raw\\Brass\\all_star_brass_sample_library\\brass-b3.wav",
           56.189706337180155
          ],
          [
           "E:\\tsvr-samplepack-tools\\data\\raw\\Brass\\all_star_brass_sample_library\\brass-b3.wav",
           60.93612540763281
          ],
          [
           "E:\\tsvr-samplepack-tools\\data\\raw\\Brass\\all_star_brass_sample_library\\brass-b3.wav",
           82.34148007255008
          ],
          [
           "E:\\tsvr-samplepack-tools\\data\\raw\\Brass\\all_star_brass_sample_library\\brass-b4.wav",
           102.44254805959793
          ],
          [
           "E:\\tsvr-samplepack-tools\\data\\raw\\Brass\\all_star_brass_sample_library\\brass-b4.wav",
           96.57729756035118
          ],
          [
           "E:\\tsvr-samplepack-tools\\data\\raw\\Brass\\all_star_brass_sample_library\\brass-b4.wav",
           129.42460160498717
          ],
          [
           "E:\\tsvr-samplepack-tools\\data\\raw\\Brass\\all_star_brass_sample_library\\brass-b4.wav",
           104.97113212551152
          ],
          [
           "E:\\tsvr-samplepack-tools\\data\\raw\\Brass\\all_star_brass_sample_library\\brass-b4.wav",
           83.90791381861102
          ],
          [
           "E:\\tsvr-samplepack-tools\\data\\raw\\Brass\\all_star_brass_sample_library\\brass-b4.wav",
           41.0720035879765
          ],
          [
           "E:\\tsvr-samplepack-tools\\data\\raw\\Brass\\all_star_brass_sample_library\\brass-b4.wav",
           16.688793308897104
          ],
          [
           "E:\\tsvr-samplepack-tools\\data\\raw\\Brass\\all_star_brass_sample_library\\brass-b4.wav",
           42.57996566179285
          ],
          [
           "E:\\tsvr-samplepack-tools\\data\\raw\\Brass\\all_star_brass_sample_library\\brass-b4.wav",
           75.40986369253191
          ],
          [
           "E:\\tsvr-samplepack-tools\\data\\raw\\Brass\\all_star_brass_sample_library\\brass-c.wav",
           70.0241353175808
          ],
          [
           "E:\\tsvr-samplepack-tools\\data\\raw\\Brass\\all_star_brass_sample_library\\brass-c.wav",
           82.81682057126693
          ],
          [
           "E:\\tsvr-samplepack-tools\\data\\raw\\Brass\\all_star_brass_sample_library\\brass-c.wav",
           85.06968340580029
          ],
          [
           "E:\\tsvr-samplepack-tools\\data\\raw\\Brass\\all_star_brass_sample_library\\brass-c.wav",
           106.14171911539243
          ],
          [
           "E:\\tsvr-samplepack-tools\\data\\raw\\Brass\\all_star_brass_sample_library\\brass-c.wav",
           90.99682079825361
          ],
          [
           "E:\\tsvr-samplepack-tools\\data\\raw\\Brass\\all_star_brass_sample_library\\brass-c.wav",
           43.94844957593725
          ],
          [
           "E:\\tsvr-samplepack-tools\\data\\raw\\Brass\\all_star_brass_sample_library\\brass-c.wav",
           47.47291320418886
          ],
          [
           "E:\\tsvr-samplepack-tools\\data\\raw\\Brass\\all_star_brass_sample_library\\brass-c.wav",
           70.81644444715894
          ],
          [
           "E:\\tsvr-samplepack-tools\\data\\raw\\Brass\\all_star_brass_sample_library\\brass-c.wav",
           57.199443077779065
          ],
          [
           "E:\\tsvr-samplepack-tools\\data\\raw\\Brass\\all_star_brass_sample_library\\brass-d.wav",
           49.41369443586464
          ],
          [
           "E:\\tsvr-samplepack-tools\\data\\raw\\Brass\\all_star_brass_sample_library\\brass-d.wav",
           41.066767879895814
          ],
          [
           "E:\\tsvr-samplepack-tools\\data\\raw\\Brass\\all_star_brass_sample_library\\brass-d.wav",
           47.96237775379218
          ],
          [
           "E:\\tsvr-samplepack-tools\\data\\raw\\Brass\\all_star_brass_sample_library\\brass-d.wav",
           51.8199901532038
          ],
          [
           "E:\\tsvr-samplepack-tools\\data\\raw\\Brass\\all_star_brass_sample_library\\brass-d.wav",
           48.435198350975426
          ],
          [
           "E:\\tsvr-samplepack-tools\\data\\raw\\Brass\\all_star_brass_sample_library\\brass-d.wav",
           37.62182648204628
          ],
          [
           "E:\\tsvr-samplepack-tools\\data\\raw\\Brass\\all_star_brass_sample_library\\brass-d.wav",
           40.96737720648004
          ],
          [
           "E:\\tsvr-samplepack-tools\\data\\raw\\Brass\\all_star_brass_sample_library\\brass-d.wav",
           43.000518336299386
          ],
          [
           "E:\\tsvr-samplepack-tools\\data\\raw\\Brass\\all_star_brass_sample_library\\brass-d.wav",
           42.96937604381868
          ],
          [
           "E:\\tsvr-samplepack-tools\\data\\raw\\Brass\\all_star_brass_sample_library\\brass-d2.wav",
           44.07680008206069
          ],
          [
           "E:\\tsvr-samplepack-tools\\data\\raw\\Brass\\all_star_brass_sample_library\\brass-d2.wav",
           40.26095102259364
          ],
          [
           "E:\\tsvr-samplepack-tools\\data\\raw\\Brass\\all_star_brass_sample_library\\brass-d2.wav",
           39.63455832003313
          ],
          [
           "E:\\tsvr-samplepack-tools\\data\\raw\\Brass\\all_star_brass_sample_library\\brass-d2.wav",
           46.27134479395206
          ],
          [
           "E:\\tsvr-samplepack-tools\\data\\raw\\Brass\\all_star_brass_sample_library\\brass-d2.wav",
           33.88361991440912
          ],
          [
           "E:\\tsvr-samplepack-tools\\data\\raw\\Brass\\all_star_brass_sample_library\\brass-d2.wav",
           36.02961356426478
          ],
          [
           "E:\\tsvr-samplepack-tools\\data\\raw\\Brass\\all_star_brass_sample_library\\brass-d2.wav",
           37.806318084252695
          ],
          [
           "E:\\tsvr-samplepack-tools\\data\\raw\\Brass\\all_star_brass_sample_library\\brass-d2.wav",
           40.24017267569488
          ],
          [
           "E:\\tsvr-samplepack-tools\\data\\raw\\Brass\\all_star_brass_sample_library\\brass-d2.wav",
           38.49472219885488
          ],
          [
           "E:\\tsvr-samplepack-tools\\data\\raw\\Brass\\all_star_brass_sample_library\\brass-d3.wav",
           40.03095669642417
          ],
          [
           "E:\\tsvr-samplepack-tools\\data\\raw\\Brass\\all_star_brass_sample_library\\brass-d3.wav",
           39.852276413304665
          ],
          [
           "E:\\tsvr-samplepack-tools\\data\\raw\\Brass\\all_star_brass_sample_library\\brass-d3.wav",
           33.87488740718403
          ],
          [
           "E:\\tsvr-samplepack-tools\\data\\raw\\Brass\\all_star_brass_sample_library\\brass-d3.wav",
           34.16663361870367
          ],
          [
           "E:\\tsvr-samplepack-tools\\data\\raw\\Brass\\all_star_brass_sample_library\\brass-d3.wav",
           33.67356120241304
          ],
          [
           "E:\\tsvr-samplepack-tools\\data\\raw\\Brass\\all_star_brass_sample_library\\brass-d3.wav",
           35.43336979088472
          ],
          [
           "E:\\tsvr-samplepack-tools\\data\\raw\\Brass\\all_star_brass_sample_library\\brass-d3.wav",
           38.41302098046155
          ],
          [
           "E:\\tsvr-samplepack-tools\\data\\raw\\Brass\\all_star_brass_sample_library\\brass-d3.wav",
           28.296709196301304
          ],
          [
           "E:\\tsvr-samplepack-tools\\data\\raw\\Brass\\all_star_brass_sample_library\\brass-d3.wav",
           28.03137483087958
          ],
          [
           "E:\\tsvr-samplepack-tools\\data\\raw\\Brass\\all_star_brass_sample_library\\brass-d4.wav",
           39.1411227141819
          ],
          [
           "E:\\tsvr-samplepack-tools\\data\\raw\\Brass\\all_star_brass_sample_library\\brass-d4.wav",
           49.50688810028516
          ],
          [
           "E:\\tsvr-samplepack-tools\\data\\raw\\Brass\\all_star_brass_sample_library\\brass-d4.wav",
           54.05356289096941
          ],
          [
           "E:\\tsvr-samplepack-tools\\data\\raw\\Brass\\all_star_brass_sample_library\\brass-d4.wav",
           41.113573669173206
          ],
          [
           "E:\\tsvr-samplepack-tools\\data\\raw\\Brass\\all_star_brass_sample_library\\brass-d4.wav",
           33.94419845741248
          ],
          [
           "E:\\tsvr-samplepack-tools\\data\\raw\\Brass\\all_star_brass_sample_library\\brass-d4.wav",
           32.98167643214975
          ],
          [
           "E:\\tsvr-samplepack-tools\\data\\raw\\Brass\\all_star_brass_sample_library\\brass-d4.wav",
           38.54050171068889
          ],
          [
           "E:\\tsvr-samplepack-tools\\data\\raw\\Brass\\all_star_brass_sample_library\\brass-d4.wav",
           34.92898689570306
          ],
          [
           "E:\\tsvr-samplepack-tools\\data\\raw\\Brass\\all_star_brass_sample_library\\brass-d4.wav",
           36.23527861092596
          ],
          [
           "E:\\tsvr-samplepack-tools\\data\\raw\\Brass\\all_star_brass_sample_library\\brass-d5.wav",
           52.12532012303059
          ],
          [
           "E:\\tsvr-samplepack-tools\\data\\raw\\Brass\\all_star_brass_sample_library\\brass-d5.wav",
           86.44183495638146
          ],
          [
           "E:\\tsvr-samplepack-tools\\data\\raw\\Brass\\all_star_brass_sample_library\\brass-d5.wav",
           84.8052619931482
          ],
          [
           "E:\\tsvr-samplepack-tools\\data\\raw\\Brass\\all_star_brass_sample_library\\brass-d5.wav",
           53.1476030470068
          ],
          [
           "E:\\tsvr-samplepack-tools\\data\\raw\\Brass\\all_star_brass_sample_library\\brass-d5.wav",
           66.98304594114988
          ],
          [
           "E:\\tsvr-samplepack-tools\\data\\raw\\Brass\\all_star_brass_sample_library\\brass-d5.wav",
           60.65940355249029
          ],
          [
           "E:\\tsvr-samplepack-tools\\data\\raw\\Brass\\all_star_brass_sample_library\\brass-d5.wav",
           62.677517439092895
          ],
          [
           "E:\\tsvr-samplepack-tools\\data\\raw\\Brass\\all_star_brass_sample_library\\brass-d5.wav",
           48.29740192932297
          ],
          [
           "E:\\tsvr-samplepack-tools\\data\\raw\\Brass\\all_star_brass_sample_library\\brass-d5.wav",
           52.850395775539546
          ]
         ],
         "hovertemplate": "x=%{x}<br>y=%{y}<br>z=%{z}<br>rms=%{marker.size}<br>file=%{customdata[0]}<br>distance=%{customdata[1]}<br>label=%{marker.color}<extra></extra>",
         "legendgroup": "",
         "marker": {
          "color": [
           3,
           3,
           8,
           1,
           1,
           4,
           4,
           4,
           4,
           3,
           3,
           8,
           1,
           1,
           4,
           4,
           4,
           4,
           3,
           3,
           8,
           1,
           1,
           4,
           4,
           4,
           4,
           3,
           3,
           0,
           1,
           6,
           6,
           6,
           6,
           6,
           3,
           3,
           0,
           7,
           1,
           1,
           1,
           1,
           4,
           0,
           0,
           8,
           5,
           5,
           7,
           7,
           2,
           2,
           0,
           0,
           8,
           5,
           5,
           7,
           7,
           2,
           2,
           0,
           0,
           8,
           5,
           5,
           7,
           7,
           2,
           2,
           0,
           0,
           8,
           5,
           5,
           7,
           7,
           2,
           2,
           8,
           0,
           8,
           5,
           5,
           7,
           2,
           2,
           2
          ],
          "coloraxis": "coloraxis",
          "opacity": 0.5,
          "size": [
           0.09324533445829125,
           0.10366223800056532,
           0.049890036532951494,
           0.0014790507008494388,
           0.0008409049518802879,
           0.00037309013052133215,
           0.0002918661916907049,
           0.0002646637457452813,
           0.0001568943986684063,
           0.08739348400277835,
           0.1082260809460919,
           0.04646232184379978,
           0.0011619119176115157,
           0.0008819244065258491,
           0.0004807708922275913,
           0.0004535424498018407,
           0.0002693348221215799,
           0.0001447848621501631,
           0.10869486936982549,
           0.15477148934365254,
           0.05232262070885658,
           0.0015534193250159973,
           0.0009748345294573262,
           0.0006026094118034111,
           0.00040421617004611916,
           0.0003469059345899071,
           0.00021713982350972906,
           0.12543716559245907,
           0.18117561683820468,
           0.07632340503835917,
           0.0019633323153022803,
           0.001238504198573721,
           0.0007151349550183714,
           0.0006394247307592747,
           0.0004964849500726459,
           0.00023896927190363907,
           0.17800522293459364,
           0.2242913358537461,
           0.13510575887736592,
           0.0041624659623813644,
           0.0026420255111262547,
           0.0014557772394964733,
           0.0011630408678751302,
           0.0008860771864805988,
           0.00043862082982723576,
           0.043456825864640974,
           0.04373401704180286,
           0.022920991041817457,
           0.012125358151028052,
           0.008401596723020505,
           0.005783563473678676,
           0.004384596578754577,
           0.0028674975986800475,
           0.002083605078990342,
           0.04197398645419823,
           0.05042907055037426,
           0.025305079745536623,
           0.011650037304831143,
           0.009010285586539855,
           0.0047048209629020135,
           0.004488958536943817,
           0.002784664909956872,
           0.002349855011329618,
           0.04369514456233253,
           0.045160002200510745,
           0.023141550344454344,
           0.014333264079131087,
           0.007928372888717259,
           0.006084297027245439,
           0.004500754216172807,
           0.0026125923839456487,
           0.0021951083263093323,
           0.04076951428012022,
           0.043574494908366575,
           0.01906507270353555,
           0.012642070773582004,
           0.00983311190863455,
           0.00449746462039062,
           0.004224720192215951,
           0.002514241118144297,
           0.002079439565337695,
           0.023768866756295644,
           0.045373030501863525,
           0.027860174500350256,
           0.01373309420330604,
           0.00945490312691595,
           0.0061498596496884685,
           0.004741736365556403,
           0.003383354166506901,
           0.002602902998428333
          ],
          "sizemode": "area",
          "sizeref": 0.0005607283396343653,
          "symbol": "circle"
         },
         "mode": "markers",
         "name": "",
         "scene": "scene",
         "showlegend": false,
         "type": "scatter3d",
         "x": [
          -232.01310913306943,
          -218.75316540602742,
          -407.75539637418296,
          -710.8304889576202,
          -765.3906052310367,
          -813.213680408873,
          -842.1871906395988,
          -867.668539931068,
          -900.4644875243963,
          -239.84657381176112,
          -213.65748791114822,
          -403.30589746447123,
          -719.8203981981526,
          -762.2943095971395,
          -804.2197040253677,
          -838.2830632437234,
          -869.5265899155407,
          -903.0377234779693,
          -230.66164478333525,
          -219.1831490848302,
          -405.3696781519208,
          -716.6360074885255,
          -768.5123636734245,
          -816.5242258347765,
          -837.513733329337,
          -870.6323593285744,
          -900.7229523410927,
          -237.79867648727938,
          -230.18206468932527,
          -376.64400008420625,
          -724.2736110051358,
          -764.6314579313944,
          -809.6419629232176,
          -849.528416310408,
          -880.4440807396222,
          -911.6687947689043,
          -147.47857009305665,
          -143.02673914196995,
          -280.91601196493275,
          -599.9766222219927,
          -644.7751370367843,
          -697.5302073637044,
          -748.7834363489168,
          -781.1373237769295,
          -823.341316090961,
          -322.7103760348911,
          -307.56914017396565,
          -402.82115632582617,
          -474.6043202719612,
          -525.2569991174045,
          -568.6400411373727,
          -611.4171673698528,
          -654.4615580845352,
          -691.1065898308293,
          -316.09609199290486,
          -309.9969982226508,
          -390.23448944450456,
          -470.68187289016873,
          -513.8138548316762,
          -571.2692363498868,
          -607.2699075516483,
          -654.9506708683605,
          -683.9839587003364,
          -325.88805747360726,
          -319.7043197658573,
          -406.7070743919747,
          -472.4071051310307,
          -526.1269245512119,
          -568.2932197925993,
          -608.8689315432268,
          -660.0326721355773,
          -684.2668074858095,
          -322.6225014382277,
          -311.200262987128,
          -405.472704971667,
          -467.63282145115824,
          -510.4092885473715,
          -575.2255860488324,
          -602.2820775061724,
          -657.6258015486078,
          -691.124802183462,
          -418.7012595525447,
          -331.2163654314853,
          -415.59838809798754,
          -490.73872638412416,
          -529.4832750746937,
          -568.8787458709991,
          -613.9826209043803,
          -653.5757431210101,
          -685.9236313150514
         ],
         "y": [
          120.66579996402965,
          162.86763747905246,
          195.98089724605978,
          218.62484354769717,
          219.95197881131745,
          212.37284356613878,
          212.58050421983282,
          203.16800188467914,
          188.3455124202699,
          110.88202955447058,
          141.69771474310326,
          173.24787085967787,
          208.13104493579166,
          221.91161900601287,
          212.42725260540254,
          206.71281484951035,
          194.04957841066155,
          182.13269836341541,
          109.97708285661729,
          155.2293212905965,
          169.52687396615718,
          208.14206924851638,
          218.72074091801963,
          205.78819349380584,
          200.0928339212375,
          192.54688342278777,
          181.6703046248565,
          62.83300483572549,
          119.54287626262892,
          141.83081810723775,
          168.9999788686535,
          181.79404448638093,
          180.7610639401817,
          178.75564812362578,
          173.80169896175113,
          160.54671679013924,
          113.94779912110175,
          153.96456789358834,
          190.55653832746944,
          217.0892781469216,
          226.33637707856062,
          230.38023776605206,
          237.2432041697105,
          240.46983540710895,
          224.88562045407878,
          152.04205715634072,
          187.71735083717124,
          232.06023954603344,
          254.1875705378162,
          262.00976576458424,
          263.6527203909071,
          271.29606581827966,
          273.4697278980476,
          285.92092003839656,
          150.4576228066286,
          196.86947885589828,
          221.07272024176896,
          261.222433806246,
          265.3626502609766,
          270.0610650457245,
          274.1460060391033,
          283.8508048522247,
          284.35429962063745,
          161.60816985677883,
          214.33969870642187,
          237.16651532816536,
          263.55241618185886,
          275.02326084498554,
          288.237031544013,
          285.5275525534166,
          287.7045931026353,
          284.52137630359323,
          159.18875832168885,
          213.25973318774962,
          255.1702671610578,
          265.0928100477888,
          260.1503847730453,
          280.82508412097127,
          291.3448275741701,
          298.15248531363363,
          295.4751320037408,
          209.78675712481666,
          258.08007496154613,
          284.13632640451686,
          300.4108284468272,
          296.9529808152008,
          294.46450158904486,
          303.6667905041437,
          307.41329899704033,
          297.930061577124
         ],
         "z": [
          -60.87620376824617,
          -76.74135415192757,
          -50.54102898919092,
          -76.02864021352647,
          -70.43175648620894,
          -65.06367240924486,
          -42.197691277874014,
          -34.055443041882164,
          -17.602054833965195,
          -66.21369464033887,
          -89.79914503984749,
          -60.862419654457106,
          -88.66083571409959,
          -81.79831126787627,
          -70.96957800934844,
          -59.42210400213615,
          -47.87937569046098,
          -25.978084928695722,
          -64.12646066534973,
          -90.00048486630004,
          -67.71351018316686,
          -90.23830480804533,
          -82.94870343828039,
          -70.78705139240516,
          -57.61401540884566,
          -44.05737696997341,
          -31.11868511060775,
          -85.12007985653561,
          -121.15486657373643,
          -83.37469640506225,
          -105.67216203407824,
          -92.70400127988786,
          -88.63333707343138,
          -79.53915385882385,
          -67.89132740332295,
          -53.14962495491549,
          -75.35273392182233,
          -104.98460642772812,
          -83.12739566112992,
          -95.92745784899218,
          -84.26515117542738,
          -91.0798249448897,
          -88.59115165946697,
          -76.59333784150985,
          -58.88792797653371,
          -26.816218801018216,
          -48.97944156096295,
          -59.49899695340681,
          -66.67123043940707,
          -59.51590575216083,
          -53.48245416974821,
          -37.70229657638046,
          -36.68077903478106,
          -32.22658064960661,
          -35.60062968751844,
          -53.09790270873038,
          -48.32817327371294,
          -75.1335091663986,
          -62.88505128447353,
          -69.88246999238189,
          -51.401672585270596,
          -46.437439424506294,
          -28.853076664560113,
          -24.38482658163084,
          -49.4381904475807,
          -44.63683605970967,
          -48.05104352547109,
          -44.786404457996255,
          -42.86063288817909,
          -31.541955057454544,
          -36.18696155234505,
          -19.91947965603592,
          -32.57749605892564,
          -55.79071303892199,
          -63.175043311993626,
          -64.11489537795323,
          -48.95201326194712,
          -63.3941519514847,
          -45.952548867388096,
          -46.534426256493816,
          -32.647706164711344,
          -19.579739222875514,
          -36.03560552250654,
          -17.641539609162404,
          -24.18059337368191,
          -13.843907682749906,
          -11.586979302149338,
          -3.8851599217470967,
          5.259638115891458,
          16.763981149952972
         ]
        }
       ],
       "layout": {
        "coloraxis": {
         "colorbar": {
          "title": {
           "text": "label"
          }
         },
         "colorscale": [
          [
           0,
           "#0d0887"
          ],
          [
           0.1111111111111111,
           "#46039f"
          ],
          [
           0.2222222222222222,
           "#7201a8"
          ],
          [
           0.3333333333333333,
           "#9c179e"
          ],
          [
           0.4444444444444444,
           "#bd3786"
          ],
          [
           0.5555555555555556,
           "#d8576b"
          ],
          [
           0.6666666666666666,
           "#ed7953"
          ],
          [
           0.7777777777777778,
           "#fb9f3a"
          ],
          [
           0.8888888888888888,
           "#fdca26"
          ],
          [
           1,
           "#f0f921"
          ]
         ]
        },
        "legend": {
         "itemsizing": "constant",
         "tracegroupgap": 0
        },
        "margin": {
         "t": 60
        },
        "scene": {
         "domain": {
          "x": [
           0,
           1
          ],
          "y": [
           0,
           1
          ]
         },
         "xaxis": {
          "title": {
           "text": "x"
          }
         },
         "yaxis": {
          "title": {
           "text": "y"
          }
         },
         "zaxis": {
          "title": {
           "text": "z"
          }
         }
        },
        "template": {
         "data": {
          "bar": [
           {
            "error_x": {
             "color": "#2a3f5f"
            },
            "error_y": {
             "color": "#2a3f5f"
            },
            "marker": {
             "line": {
              "color": "#E5ECF6",
              "width": 0.5
             },
             "pattern": {
              "fillmode": "overlay",
              "size": 10,
              "solidity": 0.2
             }
            },
            "type": "bar"
           }
          ],
          "barpolar": [
           {
            "marker": {
             "line": {
              "color": "#E5ECF6",
              "width": 0.5
             },
             "pattern": {
              "fillmode": "overlay",
              "size": 10,
              "solidity": 0.2
             }
            },
            "type": "barpolar"
           }
          ],
          "carpet": [
           {
            "aaxis": {
             "endlinecolor": "#2a3f5f",
             "gridcolor": "white",
             "linecolor": "white",
             "minorgridcolor": "white",
             "startlinecolor": "#2a3f5f"
            },
            "baxis": {
             "endlinecolor": "#2a3f5f",
             "gridcolor": "white",
             "linecolor": "white",
             "minorgridcolor": "white",
             "startlinecolor": "#2a3f5f"
            },
            "type": "carpet"
           }
          ],
          "choropleth": [
           {
            "colorbar": {
             "outlinewidth": 0,
             "ticks": ""
            },
            "type": "choropleth"
           }
          ],
          "contour": [
           {
            "colorbar": {
             "outlinewidth": 0,
             "ticks": ""
            },
            "colorscale": [
             [
              0,
              "#0d0887"
             ],
             [
              0.1111111111111111,
              "#46039f"
             ],
             [
              0.2222222222222222,
              "#7201a8"
             ],
             [
              0.3333333333333333,
              "#9c179e"
             ],
             [
              0.4444444444444444,
              "#bd3786"
             ],
             [
              0.5555555555555556,
              "#d8576b"
             ],
             [
              0.6666666666666666,
              "#ed7953"
             ],
             [
              0.7777777777777778,
              "#fb9f3a"
             ],
             [
              0.8888888888888888,
              "#fdca26"
             ],
             [
              1,
              "#f0f921"
             ]
            ],
            "type": "contour"
           }
          ],
          "contourcarpet": [
           {
            "colorbar": {
             "outlinewidth": 0,
             "ticks": ""
            },
            "type": "contourcarpet"
           }
          ],
          "heatmap": [
           {
            "colorbar": {
             "outlinewidth": 0,
             "ticks": ""
            },
            "colorscale": [
             [
              0,
              "#0d0887"
             ],
             [
              0.1111111111111111,
              "#46039f"
             ],
             [
              0.2222222222222222,
              "#7201a8"
             ],
             [
              0.3333333333333333,
              "#9c179e"
             ],
             [
              0.4444444444444444,
              "#bd3786"
             ],
             [
              0.5555555555555556,
              "#d8576b"
             ],
             [
              0.6666666666666666,
              "#ed7953"
             ],
             [
              0.7777777777777778,
              "#fb9f3a"
             ],
             [
              0.8888888888888888,
              "#fdca26"
             ],
             [
              1,
              "#f0f921"
             ]
            ],
            "type": "heatmap"
           }
          ],
          "heatmapgl": [
           {
            "colorbar": {
             "outlinewidth": 0,
             "ticks": ""
            },
            "colorscale": [
             [
              0,
              "#0d0887"
             ],
             [
              0.1111111111111111,
              "#46039f"
             ],
             [
              0.2222222222222222,
              "#7201a8"
             ],
             [
              0.3333333333333333,
              "#9c179e"
             ],
             [
              0.4444444444444444,
              "#bd3786"
             ],
             [
              0.5555555555555556,
              "#d8576b"
             ],
             [
              0.6666666666666666,
              "#ed7953"
             ],
             [
              0.7777777777777778,
              "#fb9f3a"
             ],
             [
              0.8888888888888888,
              "#fdca26"
             ],
             [
              1,
              "#f0f921"
             ]
            ],
            "type": "heatmapgl"
           }
          ],
          "histogram": [
           {
            "marker": {
             "pattern": {
              "fillmode": "overlay",
              "size": 10,
              "solidity": 0.2
             }
            },
            "type": "histogram"
           }
          ],
          "histogram2d": [
           {
            "colorbar": {
             "outlinewidth": 0,
             "ticks": ""
            },
            "colorscale": [
             [
              0,
              "#0d0887"
             ],
             [
              0.1111111111111111,
              "#46039f"
             ],
             [
              0.2222222222222222,
              "#7201a8"
             ],
             [
              0.3333333333333333,
              "#9c179e"
             ],
             [
              0.4444444444444444,
              "#bd3786"
             ],
             [
              0.5555555555555556,
              "#d8576b"
             ],
             [
              0.6666666666666666,
              "#ed7953"
             ],
             [
              0.7777777777777778,
              "#fb9f3a"
             ],
             [
              0.8888888888888888,
              "#fdca26"
             ],
             [
              1,
              "#f0f921"
             ]
            ],
            "type": "histogram2d"
           }
          ],
          "histogram2dcontour": [
           {
            "colorbar": {
             "outlinewidth": 0,
             "ticks": ""
            },
            "colorscale": [
             [
              0,
              "#0d0887"
             ],
             [
              0.1111111111111111,
              "#46039f"
             ],
             [
              0.2222222222222222,
              "#7201a8"
             ],
             [
              0.3333333333333333,
              "#9c179e"
             ],
             [
              0.4444444444444444,
              "#bd3786"
             ],
             [
              0.5555555555555556,
              "#d8576b"
             ],
             [
              0.6666666666666666,
              "#ed7953"
             ],
             [
              0.7777777777777778,
              "#fb9f3a"
             ],
             [
              0.8888888888888888,
              "#fdca26"
             ],
             [
              1,
              "#f0f921"
             ]
            ],
            "type": "histogram2dcontour"
           }
          ],
          "mesh3d": [
           {
            "colorbar": {
             "outlinewidth": 0,
             "ticks": ""
            },
            "type": "mesh3d"
           }
          ],
          "parcoords": [
           {
            "line": {
             "colorbar": {
              "outlinewidth": 0,
              "ticks": ""
             }
            },
            "type": "parcoords"
           }
          ],
          "pie": [
           {
            "automargin": true,
            "type": "pie"
           }
          ],
          "scatter": [
           {
            "fillpattern": {
             "fillmode": "overlay",
             "size": 10,
             "solidity": 0.2
            },
            "type": "scatter"
           }
          ],
          "scatter3d": [
           {
            "line": {
             "colorbar": {
              "outlinewidth": 0,
              "ticks": ""
             }
            },
            "marker": {
             "colorbar": {
              "outlinewidth": 0,
              "ticks": ""
             }
            },
            "type": "scatter3d"
           }
          ],
          "scattercarpet": [
           {
            "marker": {
             "colorbar": {
              "outlinewidth": 0,
              "ticks": ""
             }
            },
            "type": "scattercarpet"
           }
          ],
          "scattergeo": [
           {
            "marker": {
             "colorbar": {
              "outlinewidth": 0,
              "ticks": ""
             }
            },
            "type": "scattergeo"
           }
          ],
          "scattergl": [
           {
            "marker": {
             "colorbar": {
              "outlinewidth": 0,
              "ticks": ""
             }
            },
            "type": "scattergl"
           }
          ],
          "scattermapbox": [
           {
            "marker": {
             "colorbar": {
              "outlinewidth": 0,
              "ticks": ""
             }
            },
            "type": "scattermapbox"
           }
          ],
          "scatterpolar": [
           {
            "marker": {
             "colorbar": {
              "outlinewidth": 0,
              "ticks": ""
             }
            },
            "type": "scatterpolar"
           }
          ],
          "scatterpolargl": [
           {
            "marker": {
             "colorbar": {
              "outlinewidth": 0,
              "ticks": ""
             }
            },
            "type": "scatterpolargl"
           }
          ],
          "scatterternary": [
           {
            "marker": {
             "colorbar": {
              "outlinewidth": 0,
              "ticks": ""
             }
            },
            "type": "scatterternary"
           }
          ],
          "surface": [
           {
            "colorbar": {
             "outlinewidth": 0,
             "ticks": ""
            },
            "colorscale": [
             [
              0,
              "#0d0887"
             ],
             [
              0.1111111111111111,
              "#46039f"
             ],
             [
              0.2222222222222222,
              "#7201a8"
             ],
             [
              0.3333333333333333,
              "#9c179e"
             ],
             [
              0.4444444444444444,
              "#bd3786"
             ],
             [
              0.5555555555555556,
              "#d8576b"
             ],
             [
              0.6666666666666666,
              "#ed7953"
             ],
             [
              0.7777777777777778,
              "#fb9f3a"
             ],
             [
              0.8888888888888888,
              "#fdca26"
             ],
             [
              1,
              "#f0f921"
             ]
            ],
            "type": "surface"
           }
          ],
          "table": [
           {
            "cells": {
             "fill": {
              "color": "#EBF0F8"
             },
             "line": {
              "color": "white"
             }
            },
            "header": {
             "fill": {
              "color": "#C8D4E3"
             },
             "line": {
              "color": "white"
             }
            },
            "type": "table"
           }
          ]
         },
         "layout": {
          "annotationdefaults": {
           "arrowcolor": "#2a3f5f",
           "arrowhead": 0,
           "arrowwidth": 1
          },
          "autotypenumbers": "strict",
          "coloraxis": {
           "colorbar": {
            "outlinewidth": 0,
            "ticks": ""
           }
          },
          "colorscale": {
           "diverging": [
            [
             0,
             "#8e0152"
            ],
            [
             0.1,
             "#c51b7d"
            ],
            [
             0.2,
             "#de77ae"
            ],
            [
             0.3,
             "#f1b6da"
            ],
            [
             0.4,
             "#fde0ef"
            ],
            [
             0.5,
             "#f7f7f7"
            ],
            [
             0.6,
             "#e6f5d0"
            ],
            [
             0.7,
             "#b8e186"
            ],
            [
             0.8,
             "#7fbc41"
            ],
            [
             0.9,
             "#4d9221"
            ],
            [
             1,
             "#276419"
            ]
           ],
           "sequential": [
            [
             0,
             "#0d0887"
            ],
            [
             0.1111111111111111,
             "#46039f"
            ],
            [
             0.2222222222222222,
             "#7201a8"
            ],
            [
             0.3333333333333333,
             "#9c179e"
            ],
            [
             0.4444444444444444,
             "#bd3786"
            ],
            [
             0.5555555555555556,
             "#d8576b"
            ],
            [
             0.6666666666666666,
             "#ed7953"
            ],
            [
             0.7777777777777778,
             "#fb9f3a"
            ],
            [
             0.8888888888888888,
             "#fdca26"
            ],
            [
             1,
             "#f0f921"
            ]
           ],
           "sequentialminus": [
            [
             0,
             "#0d0887"
            ],
            [
             0.1111111111111111,
             "#46039f"
            ],
            [
             0.2222222222222222,
             "#7201a8"
            ],
            [
             0.3333333333333333,
             "#9c179e"
            ],
            [
             0.4444444444444444,
             "#bd3786"
            ],
            [
             0.5555555555555556,
             "#d8576b"
            ],
            [
             0.6666666666666666,
             "#ed7953"
            ],
            [
             0.7777777777777778,
             "#fb9f3a"
            ],
            [
             0.8888888888888888,
             "#fdca26"
            ],
            [
             1,
             "#f0f921"
            ]
           ]
          },
          "colorway": [
           "#636efa",
           "#EF553B",
           "#00cc96",
           "#ab63fa",
           "#FFA15A",
           "#19d3f3",
           "#FF6692",
           "#B6E880",
           "#FF97FF",
           "#FECB52"
          ],
          "font": {
           "color": "#2a3f5f"
          },
          "geo": {
           "bgcolor": "white",
           "lakecolor": "white",
           "landcolor": "#E5ECF6",
           "showlakes": true,
           "showland": true,
           "subunitcolor": "white"
          },
          "hoverlabel": {
           "align": "left"
          },
          "hovermode": "closest",
          "mapbox": {
           "style": "light"
          },
          "paper_bgcolor": "white",
          "plot_bgcolor": "#E5ECF6",
          "polar": {
           "angularaxis": {
            "gridcolor": "white",
            "linecolor": "white",
            "ticks": ""
           },
           "bgcolor": "#E5ECF6",
           "radialaxis": {
            "gridcolor": "white",
            "linecolor": "white",
            "ticks": ""
           }
          },
          "scene": {
           "xaxis": {
            "backgroundcolor": "#E5ECF6",
            "gridcolor": "white",
            "gridwidth": 2,
            "linecolor": "white",
            "showbackground": true,
            "ticks": "",
            "zerolinecolor": "white"
           },
           "yaxis": {
            "backgroundcolor": "#E5ECF6",
            "gridcolor": "white",
            "gridwidth": 2,
            "linecolor": "white",
            "showbackground": true,
            "ticks": "",
            "zerolinecolor": "white"
           },
           "zaxis": {
            "backgroundcolor": "#E5ECF6",
            "gridcolor": "white",
            "gridwidth": 2,
            "linecolor": "white",
            "showbackground": true,
            "ticks": "",
            "zerolinecolor": "white"
           }
          },
          "shapedefaults": {
           "line": {
            "color": "#2a3f5f"
           }
          },
          "ternary": {
           "aaxis": {
            "gridcolor": "white",
            "linecolor": "white",
            "ticks": ""
           },
           "baxis": {
            "gridcolor": "white",
            "linecolor": "white",
            "ticks": ""
           },
           "bgcolor": "#E5ECF6",
           "caxis": {
            "gridcolor": "white",
            "linecolor": "white",
            "ticks": ""
           }
          },
          "title": {
           "x": 0.05
          },
          "xaxis": {
           "automargin": true,
           "gridcolor": "white",
           "linecolor": "white",
           "ticks": "",
           "title": {
            "standoff": 15
           },
           "zerolinecolor": "white",
           "zerolinewidth": 2
          },
          "yaxis": {
           "automargin": true,
           "gridcolor": "white",
           "linecolor": "white",
           "ticks": "",
           "title": {
            "standoff": 15
           },
           "zerolinecolor": "white",
           "zerolinewidth": 2
          }
         }
        }
       }
      }
     },
     "metadata": {},
     "output_type": "display_data"
    }
   ],
   "source": [
    "key = \"mfccs\"\n",
    "df_dists = kmeans_quantize_distances(df_features, key, 0.1)\n",
    "\n",
    "key_pos = \"mfccs\"\n",
    "x_idx = 0\n",
    "y_idx = 1\n",
    "z_idx = 2\n",
    "\n",
    "df_fig = df_dists.copy()\n",
    "\n",
    "df_fig['x'] = df_fig[key_pos].apply(lambda x: x[x_idx])\n",
    "df_fig['y'] = df_fig[key_pos].apply(lambda x: x[y_idx])\n",
    "df_fig['z'] = df_fig[key_pos].apply(lambda x: x[z_idx])\n",
    "\n",
    "px.scatter_3d(df_fig, x='x', y='y', z='z', color='label', size=\"rms\", opacity=0.5, hover_data=['file', 'distance'])"
   ]
  },
  {
   "attachments": {},
   "cell_type": "markdown",
   "metadata": {},
   "source": [
    "We could do several things\n",
    "- take the n closest to center of each cluster\n",
    "* - within a cluster, find the permutation of distances that is the largest, with a given N"
   ]
  },
  {
   "cell_type": "code",
   "execution_count": 61,
   "metadata": {},
   "outputs": [
    {
     "name": "stdout",
     "output_type": "stream",
     "text": [
      "42.553650509942834\n",
      "71.8788146133743\n",
      "107.1512796552918\n",
      "81.48908757623943\n",
      "91.5576127637153\n",
      "108.53575919717554\n",
      "129.25015093963944\n",
      "92.28107153846909\n",
      "91.03799973650153\n",
      "111.76089294023025\n",
      "137.46819274873334\n",
      "74.05651015215015\n",
      "38.55074052232767\n",
      "72.45932348166114\n",
      "97.10259707607614\n",
      "90.588402241325\n",
      "95.12970117315713\n",
      "104.51360799609016\n",
      "97.45833618804296\n",
      "83.88202467290785\n",
      "93.12498473736794\n",
      "112.1235319551319\n",
      "72.66288990590658\n",
      "44.43400526753981\n",
      "111.2516112669669\n",
      "92.45709497997186\n",
      "85.02067316925286\n",
      "84.93143991543188\n",
      "106.27194705685957\n",
      "87.22701222443257\n",
      "81.26214884989461\n",
      "91.8161502285695\n",
      "80.98127546414652\n",
      "140.73310593833784\n",
      "115.53704415196802\n",
      "95.7919237896566\n",
      "73.60229065894363\n",
      "134.08408681688354\n",
      "110.78110061784716\n",
      "92.7922079860267\n",
      "86.20957115878575\n",
      "113.7385607778718\n",
      "47.559381960186876\n",
      "78.67167400224857\n",
      "118.98843393599658\n",
      "102.510723648224\n",
      "106.58163794185221\n",
      "128.41452084539475\n",
      "154.6051299912622\n",
      "74.15164555929871\n",
      "40.42698246209143\n",
      "84.59217576074133\n",
      "109.22633107213345\n",
      "102.34454046931283\n",
      "112.66809540253085\n",
      "132.7701480483434\n",
      "65.12679605191488\n",
      "49.34544718474593\n",
      "119.30865964578774\n",
      "104.48899067635756\n",
      "101.64457940912794\n",
      "113.52381979710017\n",
      "82.76636524906525\n",
      "139.26121785761453\n",
      "118.08471931889038\n",
      "101.29965064229783\n",
      "98.37871502226436\n",
      "109.85964013623693\n",
      "34.17443535309943\n",
      "69.23857334835837\n",
      "101.61527270636634\n",
      "87.22653156593165\n",
      "43.40870425755346\n",
      "75.81013295314536\n",
      "81.75336576675956\n",
      "39.345644047609525\n",
      "101.14586354187946\n",
      "124.22516066197291\n",
      "[]\n"
     ]
    },
    {
     "ename": "KeyError",
     "evalue": "'dist'",
     "output_type": "error",
     "traceback": [
      "\u001b[1;31m---------------------------------------------------------------------------\u001b[0m",
      "\u001b[1;31mKeyError\u001b[0m                                  Traceback (most recent call last)",
      "\u001b[1;32m<ipython-input-61-0fb29545121e>\u001b[0m in \u001b[0;36m<module>\u001b[1;34m\u001b[0m\n\u001b[0;32m     32\u001b[0m \u001b[1;33m\u001b[0m\u001b[0m\n\u001b[0;32m     33\u001b[0m \u001b[1;33m\u001b[0m\u001b[0m\n\u001b[1;32m---> 34\u001b[1;33m \u001b[0mdf_filtered\u001b[0m \u001b[1;33m=\u001b[0m \u001b[0mfilter_optimal_distances\u001b[0m\u001b[1;33m(\u001b[0m\u001b[0mdf_dists\u001b[0m\u001b[1;33m,\u001b[0m \u001b[1;34m'mfccs'\u001b[0m\u001b[1;33m,\u001b[0m \u001b[1;36m4\u001b[0m\u001b[1;33m,\u001b[0m \u001b[1;36m0.5\u001b[0m\u001b[1;33m,\u001b[0m \u001b[1;36m1.5\u001b[0m\u001b[1;33m)\u001b[0m\u001b[1;33m\u001b[0m\u001b[1;33m\u001b[0m\u001b[0m\n\u001b[0m\u001b[0;32m     35\u001b[0m \u001b[0mdf_filtered\u001b[0m\u001b[1;33m\u001b[0m\u001b[1;33m\u001b[0m\u001b[0m\n",
      "\u001b[1;32m<ipython-input-61-0fb29545121e>\u001b[0m in \u001b[0;36mfilter_optimal_distances\u001b[1;34m(df, key, k, min_dist, max_dist)\u001b[0m\n\u001b[0;32m     26\u001b[0m                               'file_i' : os.path.basename(df_k.iloc[i]['file']),})\n\u001b[0;32m     27\u001b[0m     \u001b[0mprint\u001b[0m\u001b[1;33m(\u001b[0m\u001b[0mdistances\u001b[0m\u001b[1;33m)\u001b[0m\u001b[1;33m\u001b[0m\u001b[1;33m\u001b[0m\u001b[0m\n\u001b[1;32m---> 28\u001b[1;33m     \u001b[1;32mreturn\u001b[0m \u001b[0mpd\u001b[0m\u001b[1;33m.\u001b[0m\u001b[0mDataFrame\u001b[0m\u001b[1;33m(\u001b[0m\u001b[0mdistances\u001b[0m\u001b[1;33m)\u001b[0m\u001b[1;33m.\u001b[0m\u001b[0msort_values\u001b[0m\u001b[1;33m(\u001b[0m\u001b[1;34m'dist'\u001b[0m\u001b[1;33m,\u001b[0m \u001b[0mascending\u001b[0m\u001b[1;33m=\u001b[0m\u001b[1;32mFalse\u001b[0m\u001b[1;33m)\u001b[0m\u001b[1;33m\u001b[0m\u001b[1;33m\u001b[0m\u001b[0m\n\u001b[0m\u001b[0;32m     29\u001b[0m \u001b[1;33m\u001b[0m\u001b[0m\n\u001b[0;32m     30\u001b[0m \u001b[1;31m# df_optimal = find_optimal_distances(df_dists, 'mfccs', 4)\u001b[0m\u001b[1;33m\u001b[0m\u001b[1;33m\u001b[0m\u001b[1;33m\u001b[0m\u001b[0m\n",
      "\u001b[1;32mc:\\Users\\Carl\\AppData\\Local\\Programs\\Python\\Python37\\lib\\site-packages\\pandas\\util\\_decorators.py\u001b[0m in \u001b[0;36mwrapper\u001b[1;34m(*args, **kwargs)\u001b[0m\n\u001b[0;32m    309\u001b[0m                     \u001b[0mstacklevel\u001b[0m\u001b[1;33m=\u001b[0m\u001b[0mstacklevel\u001b[0m\u001b[1;33m,\u001b[0m\u001b[1;33m\u001b[0m\u001b[1;33m\u001b[0m\u001b[0m\n\u001b[0;32m    310\u001b[0m                 )\n\u001b[1;32m--> 311\u001b[1;33m             \u001b[1;32mreturn\u001b[0m \u001b[0mfunc\u001b[0m\u001b[1;33m(\u001b[0m\u001b[1;33m*\u001b[0m\u001b[0margs\u001b[0m\u001b[1;33m,\u001b[0m \u001b[1;33m**\u001b[0m\u001b[0mkwargs\u001b[0m\u001b[1;33m)\u001b[0m\u001b[1;33m\u001b[0m\u001b[1;33m\u001b[0m\u001b[0m\n\u001b[0m\u001b[0;32m    312\u001b[0m \u001b[1;33m\u001b[0m\u001b[0m\n\u001b[0;32m    313\u001b[0m         \u001b[1;32mreturn\u001b[0m \u001b[0mwrapper\u001b[0m\u001b[1;33m\u001b[0m\u001b[1;33m\u001b[0m\u001b[0m\n",
      "\u001b[1;32mc:\\Users\\Carl\\AppData\\Local\\Programs\\Python\\Python37\\lib\\site-packages\\pandas\\core\\frame.py\u001b[0m in \u001b[0;36msort_values\u001b[1;34m(self, by, axis, ascending, inplace, kind, na_position, ignore_index, key)\u001b[0m\n\u001b[0;32m   6257\u001b[0m \u001b[1;33m\u001b[0m\u001b[0m\n\u001b[0;32m   6258\u001b[0m             \u001b[0mby\u001b[0m \u001b[1;33m=\u001b[0m \u001b[0mby\u001b[0m\u001b[1;33m[\u001b[0m\u001b[1;36m0\u001b[0m\u001b[1;33m]\u001b[0m\u001b[1;33m\u001b[0m\u001b[1;33m\u001b[0m\u001b[0m\n\u001b[1;32m-> 6259\u001b[1;33m             \u001b[0mk\u001b[0m \u001b[1;33m=\u001b[0m \u001b[0mself\u001b[0m\u001b[1;33m.\u001b[0m\u001b[0m_get_label_or_level_values\u001b[0m\u001b[1;33m(\u001b[0m\u001b[0mby\u001b[0m\u001b[1;33m,\u001b[0m \u001b[0maxis\u001b[0m\u001b[1;33m=\u001b[0m\u001b[0maxis\u001b[0m\u001b[1;33m)\u001b[0m\u001b[1;33m\u001b[0m\u001b[1;33m\u001b[0m\u001b[0m\n\u001b[0m\u001b[0;32m   6260\u001b[0m \u001b[1;33m\u001b[0m\u001b[0m\n\u001b[0;32m   6261\u001b[0m             \u001b[1;31m# need to rewrap column in Series to apply key function\u001b[0m\u001b[1;33m\u001b[0m\u001b[1;33m\u001b[0m\u001b[1;33m\u001b[0m\u001b[0m\n",
      "\u001b[1;32mc:\\Users\\Carl\\AppData\\Local\\Programs\\Python\\Python37\\lib\\site-packages\\pandas\\core\\generic.py\u001b[0m in \u001b[0;36m_get_label_or_level_values\u001b[1;34m(self, key, axis)\u001b[0m\n\u001b[0;32m   1777\u001b[0m             \u001b[0mvalues\u001b[0m \u001b[1;33m=\u001b[0m \u001b[0mself\u001b[0m\u001b[1;33m.\u001b[0m\u001b[0maxes\u001b[0m\u001b[1;33m[\u001b[0m\u001b[0maxis\u001b[0m\u001b[1;33m]\u001b[0m\u001b[1;33m.\u001b[0m\u001b[0mget_level_values\u001b[0m\u001b[1;33m(\u001b[0m\u001b[0mkey\u001b[0m\u001b[1;33m)\u001b[0m\u001b[1;33m.\u001b[0m\u001b[0m_values\u001b[0m\u001b[1;33m\u001b[0m\u001b[1;33m\u001b[0m\u001b[0m\n\u001b[0;32m   1778\u001b[0m         \u001b[1;32melse\u001b[0m\u001b[1;33m:\u001b[0m\u001b[1;33m\u001b[0m\u001b[1;33m\u001b[0m\u001b[0m\n\u001b[1;32m-> 1779\u001b[1;33m             \u001b[1;32mraise\u001b[0m \u001b[0mKeyError\u001b[0m\u001b[1;33m(\u001b[0m\u001b[0mkey\u001b[0m\u001b[1;33m)\u001b[0m\u001b[1;33m\u001b[0m\u001b[1;33m\u001b[0m\u001b[0m\n\u001b[0m\u001b[0;32m   1780\u001b[0m \u001b[1;33m\u001b[0m\u001b[0m\n\u001b[0;32m   1781\u001b[0m         \u001b[1;31m# Check for duplicates\u001b[0m\u001b[1;33m\u001b[0m\u001b[1;33m\u001b[0m\u001b[1;33m\u001b[0m\u001b[0m\n",
      "\u001b[1;31mKeyError\u001b[0m: 'dist'"
     ]
    }
   ],
   "source": [
    "import itertools\n",
    "\n",
    "\n",
    "# make a function to find the most optimal distances between vectors in the same K label\n",
    "def find_optimal_distances(df, key, k):\n",
    "    df_k = df[df.label == k]\n",
    "    distances = []\n",
    "    for i, j in itertools.combinations(range(len(df_k)), 2):\n",
    "        # distances.append(np.linalg.norm(df_k.iloc[i][key] - df_k.iloc[j][key]))\n",
    "        distances.append({'dist' : np.linalg.norm(df_k.iloc[i][key] - df_k.iloc[j][key]),\n",
    "                          'i' : i,\n",
    "                          'j' : j,\n",
    "                          'file_i' : os.path.basename(df_k.iloc[i]['file']),})\n",
    "    return pd.DataFrame(distances).sort_values('dist', ascending=False)\n",
    "\n",
    "def filter_optimal_distances(df, key, k, min_dist, max_dist):\n",
    "    df_k = df[df.label == k]\n",
    "    distances = []\n",
    "    for i, j in itertools.combinations(range(len(df_k)), 2):\n",
    "        dist = np.linalg.norm(df_k.iloc[i][key] - df_k.iloc[j][key])\n",
    "        print(dist)\n",
    "        if dist > min_dist and dist < max_dist:\n",
    "            distances.append({'dist' : dist,\n",
    "                              'i' : i,\n",
    "                              'j' : j,\n",
    "                              'file_i' : os.path.basename(df_k.iloc[i]['file']),})\n",
    "    print(distances)\n",
    "    return pd.DataFrame(distances).sort_values('dist', ascending=False)\n",
    "\n",
    "# df_optimal = find_optimal_distances(df_dists, 'mfccs', 4)\n",
    "# df_optimal\n",
    "\n",
    "\n",
    "df_filtered = filter_optimal_distances(df_dists, 'mfccs', 4, 0.5, 1.5)\n",
    "df_filtered"
   ]
  },
  {
   "cell_type": "code",
   "execution_count": 183,
   "metadata": {},
   "outputs": [
    {
     "data": {
      "image/png": "[encoded data removed]",
      "text/plain": [
       "<Figure size 432x288 with 1 Axes>"
      ]
     },
     "metadata": {
      "needs_background": "light"
     },
     "output_type": "display_data"
    }
   ],
   "source": [
    "df = df_features.copy()\n",
    "key = \"mfccs\"\n",
    "subset_size = 0.2\n",
    "\n",
    "# Convert list of vectors to numpy array\n",
    "X = np.array([np.asarray(x) for x in df[key]])\n",
    "# X = X[:, :2]\n",
    "K = int(len(X)*subset_size)\n",
    "\n",
    "kmeans = KMeans(n_clusters=K, random_state=0).fit(X)\n",
    "\n",
    "transformed = kmeans.transform(X)\n",
    "labels = np.argmin(transformed, axis=1)\n",
    "\n",
    "sorted_dists = {}\n",
    "\n",
    "for idx, label in enumerate(labels):\n",
    "    if label not in sorted_dists:\n",
    "        sorted_dists[label] = [{'distance' : transformed[idx, label] , 'row' : df.iloc[idx] }]\n",
    "    else:\n",
    "        sorted_dists[label].append({'distance' : transformed[idx, label], 'row' : df.iloc[idx]})\n",
    "\n",
    "for label in range(K):\n",
    "    sorted_dists[label] = sorted(sorted_dists[label], key=lambda x: x['distance'])\n",
    "\n",
    "for label, center in enumerate(kmeans.cluster_centers_):\n",
    "    color = np.random.rand(3,)\n",
    "    plt.scatter(center[0], center[1], color=color, marker='x', alpha=1)\n",
    "\n",
    "    max_dist = sorted_dists[label][-1]['distance']\n",
    "\n",
    "    for sd in sorted_dists[label]:\n",
    "        x = sd['row'][key][0]\n",
    "        y = sd['row'][key][1]\n",
    "        plt.scatter(x, y, color=color, marker='o', alpha = 1-(sd['distance']/max_dist))\n",
    "\n",
    "plt.show()"
   ]
  },
  {
   "cell_type": "code",
   "execution_count": 56,
   "metadata": {},
   "outputs": [],
   "source": [
    "# bing\n",
    "\n",
    "\n",
    "def kmeans_subselection(df, key, subset_size):\n",
    "    # Convert list of vectors to numpy array\n",
    "    X = np.array([np.asarray(x) for x in df[key]])\n",
    "    # Run kmeans clustering\n",
    "    kmeans = KMeans(n_clusters=int(len(X)*subset_size), random_state=0).fit(X)\n",
    "    # Get the indices of the most dissimilar vectors\n",
    "    indices = np.argpartition(kmeans.transform(X), -int(len(X)*subset_size), axis=0)[-int(len(X)*subset_size):]\n",
    "    # Return the most dissimilar vectors\n",
    "    print(f'LENGTH OF INDICES: {len(indices)} | idx: {indices}')\n",
    "    selected = [df.iloc[i] for i in indices]\n",
    "    return pd.DataFrame([x.to_dict() for x in selected])\n",
    "\n",
    "# chatgpt\n",
    "\n",
    "def select_dissimilar_vectors(vectors, subset_size):\n",
    "    # Convert list of vectors to numpy array\n",
    "    X = np.array(vectors)\n",
    "    # Initialize KMeans clustering algorithm\n",
    "    kmeans = KMeans(n_clusters=int(subset_size*len(vectors)), random_state=0).fit(X)\n",
    "    # Get the cluster labels for each vector\n",
    "    labels = kmeans.predict(X)\n",
    "    # Compute the centroid of each cluster\n",
    "    centroids = kmeans.cluster_centers_\n",
    "    # Compute the distance of each vector to its centroid\n",
    "    distances = [np.linalg.norm(X[i]-centroids[labels[i]]) for i in range(len(vectors))]\n",
    "    # Sort the vectors by their distance to centroid\n",
    "    sorted_vectors = [vector for _, vector in sorted(zip(distances, vectors))]\n",
    "    # Return a subset of the most dissimilar vectors\n",
    "    return sorted_vectors[:int(subset_size*len(vectors))]"
   ]
  }
 ],
 "metadata": {
  "kernelspec": {
   "display_name": "Python 3",
   "language": "python",
   "name": "python3"
  },
  "language_info": {
   "codemirror_mode": {
    "name": "ipython",
    "version": 3
   },
   "file_extension": ".py",
   "mimetype": "text/x-python",
   "name": "python",
   "nbconvert_exporter": "python",
   "pygments_lexer": "ipython3",
   "version": "3.7.9"
  },
  "orig_nbformat": 4
 },
 "nbformat": 4,
 "nbformat_minor": 2
}
