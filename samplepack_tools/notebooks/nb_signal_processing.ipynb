{
 "cells": [
  {
   "cell_type": "code",
   "execution_count": null,
   "metadata": {},
   "outputs": [],
   "source": [
    "import sys\n",
    "sys.path.append('..')"
   ]
  },
  {
   "cell_type": "code",
   "execution_count": null,
   "metadata": {},
   "outputs": [],
   "source": [
    "from audio_file import read_samples, write_samples, read_concat_samples\n",
    "from signal_processing.features import extract_features\n",
    "from signal_processing.windowing import window_samples\n",
    "from grain_cloud import GrainCloud\n",
    "from audio_clip import AudioClip, clips_from_folder\n",
    "from utils import get_files_of_types\n",
    "import definitions\n",
    "from manage_packs import update_samplepack_db\n",
    "from signal_processing.processors import most_dissimilar_segments, strip_silence\n",
    "from signal_processing import processors\n",
    "\n",
    "from copy import deepcopy"
   ]
  },
  {
   "cell_type": "code",
   "execution_count": null,
   "metadata": {},
   "outputs": [],
   "source": [
    "from signal_processing.processors import strip_silence, cross_fade_all\n",
    "from copy import deepcopy\n",
    "\n",
    "clips_cloud = deepcopy(clips)\n",
    "cloud = GrainCloud(clips_cloud)\n",
    "\n",
    "new_clip = cloud.render(\n",
    "    clip_processors=[lambda x: strip_silence(x, -30, 0)],\n",
    "    consolidate_processor=lambda x: cross_fade_all(x, 10000)\n",
    ")\n",
    "\n",
    "new_clip.display()"
   ]
  },
  {
   "cell_type": "code",
   "execution_count": null,
   "metadata": {},
   "outputs": [],
   "source": [
    "from signal_processing.processors import cross_fade\n",
    "\n",
    "clip_1 = clips_cloud[3]\n",
    "clip_2 = clips_cloud[54]\n",
    "\n",
    "clip_1.display()\n",
    "clip_2.display()\n",
    "\n",
    "faded = cross_fade(clip_1.samples, clip_2.samples, 50000)\n",
    "\n",
    "faded = AudioClip.from_samples(faded)\n",
    "faded.display()"
   ]
  }
 ],
 "metadata": {
  "language_info": {
   "name": "python"
  },
  "orig_nbformat": 4
 },
 "nbformat": 4,
 "nbformat_minor": 2
}
