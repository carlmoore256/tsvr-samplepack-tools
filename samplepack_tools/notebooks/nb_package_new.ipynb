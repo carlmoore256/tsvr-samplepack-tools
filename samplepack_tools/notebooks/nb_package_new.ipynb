{
 "cells": [
  {
   "cell_type": "code",
   "execution_count": null,
   "metadata": {},
   "outputs": [],
   "source": [
    "%load_ext autoreload\n",
    "%autoreload 2"
   ]
  },
  {
   "cell_type": "code",
   "execution_count": null,
   "metadata": {},
   "outputs": [],
   "source": [
    "import os\n",
    "os.chdir('../../')"
   ]
  },
  {
   "cell_type": "code",
   "execution_count": null,
   "metadata": {},
   "outputs": [],
   "source": [
    "from samplepack_tools.publishing.resources import Resource, ResourceCategory\n",
    "from samplepack_tools.publishing.web_storage import aws_web_provider\n",
    "from samplepack_tools.audio.clip_consolidator import ClipConsolidator   \n",
    "from samplepack_tools.audio.audio_clip import AudioClip\n",
    "from samplepack_tools.audio.processors import most_dissimilar_segments, strip_silence, cross_fade_all\n",
    "import samplepack_tools.definitions as definitions\n",
    "from samplepack_tools.hashing import hash_file, hash_dict, hash_list\n",
    "from samplepack_tools.grain_cloud import GrainCloud\n",
    "import json"
   ]
  },
  {
   "cell_type": "markdown",
   "metadata": {},
   "source": [
    "Combine all the resources you want to package in the GrainCloud"
   ]
  },
  {
   "cell_type": "code",
   "execution_count": null,
   "metadata": {},
   "outputs": [],
   "source": [
    "audio_sample = Resource(\n",
    "    '/Users/carl/Documents/Samplepack/OldSkoolBeatClip.wav',\n",
    "    ResourceCategory.AUDIO_SAMPLE,\n",
    "    'Old Skool Beat',\n",
    ")\n",
    "\n",
    "thumbnail = Resource(\n",
    "    '/Users/carl/Downloads/favicon.png',\n",
    "    ResourceCategory.THUMBNAIL\n",
    ")\n",
    "\n",
    "cloud = GrainCloud([audio_sample, thumbnail])"
   ]
  },
  {
   "cell_type": "code",
   "execution_count": null,
   "metadata": {},
   "outputs": [],
   "source": [
    "cloud.publish(\n",
    "    \"foobar\",\n",
    "    \"a foo bar\"\n",
    ")"
   ]
  },
  {
   "cell_type": "markdown",
   "metadata": {},
   "source": [
    "Another way to make an audio resource"
   ]
  },
  {
   "cell_type": "code",
   "execution_count": null,
   "metadata": {},
   "outputs": [],
   "source": [
    "clip = AudioClip.from_file('/Users/carl/Documents/Samplepack/OldSkoolBeatClip.wav')\n",
    "audio_resource = clip.to_resource()\n",
    "# this will automatically be done by GrainCloud\n",
    "# audio_resource.publish_to_web(aws_web_provider)"
   ]
  },
  {
   "cell_type": "code",
   "execution_count": null,
   "metadata": {},
   "outputs": [],
   "source": []
  }
 ],
 "metadata": {
  "kernelspec": {
   "display_name": "tsvr",
   "language": "python",
   "name": "python3"
  },
  "language_info": {
   "codemirror_mode": {
    "name": "ipython",
    "version": 3
   },
   "file_extension": ".py",
   "mimetype": "text/x-python",
   "name": "python",
   "nbconvert_exporter": "python",
   "pygments_lexer": "ipython3",
   "version": "3.12.4"
  }
 },
 "nbformat": 4,
 "nbformat_minor": 2
}
