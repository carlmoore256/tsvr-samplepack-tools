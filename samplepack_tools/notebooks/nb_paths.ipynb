{
 "cells": [
  {
   "cell_type": "code",
   "execution_count": null,
   "metadata": {},
   "outputs": [],
   "source": [
    "import sys\n",
    "sys.path.append('..')"
   ]
  },
  {
   "cell_type": "code",
   "execution_count": null,
   "metadata": {},
   "outputs": [],
   "source": [
    "import os\n",
    "\n",
    "def folder_to_string(folder_path, include_extensions=[], include_file_sizes=False):\n",
    "    \"\"\"\n",
    "    Converts a folder structure into a string that can easily be understood by large language models like GPT-4.\n",
    "\n",
    "    :param folder_path: The path to the folder to convert.\n",
    "    :param include_extensions: A list of file extensions to include in the output. Default is an empty list.\n",
    "    :return: A string representation of the folder structure.\n",
    "    \"\"\"\n",
    "    folder_string = \"\"\n",
    "    for root, dirs, files in os.walk(folder_path):\n",
    "        level = root.replace(folder_path, \"\").count(os.sep)\n",
    "        indent = \" \" * 4 * level\n",
    "        folder_string += f\"{indent}{os.path.basename(root)}/\\n\"\n",
    "        sub_indent = \" \" * 4 * (level + 1)\n",
    "        for file_name in files:\n",
    "            file_path = os.path.join(root, file_name)\n",
    "            if not include_extensions or any(file_name.endswith(ext) for ext in include_extensions):\n",
    "                file_size = os.path.getsize(file_path)\n",
    "                if include_file_sizes:\n",
    "                    folder_string += f\"{sub_indent}{file_name} ({file_size} bytes)\\n\"\n",
    "                else:\n",
    "                    folder_string += f\"{sub_indent}{file_name}\\n\"\n",
    "    return folder_string"
   ]
  },
  {
   "cell_type": "code",
   "execution_count": null,
   "metadata": {},
   "outputs": [],
   "source": [
    "folder_path = \"E:/UnityProjects/TimbreSpaceVR/Assets/Scripts\"\n",
    "exclude_files = [\".cs\"]\n",
    "folder_string = folder_to_string(folder_path, exclude_files)\n",
    "print(folder_string)"
   ]
  },
  {
   "cell_type": "code",
   "execution_count": null,
   "metadata": {},
   "outputs": [],
   "source": []
  }
 ],
 "metadata": {
  "kernelspec": {
   "display_name": "Python 3",
   "language": "python",
   "name": "python3"
  },
  "language_info": {
   "codemirror_mode": {
    "name": "ipython",
    "version": 3
   },
   "file_extension": ".py",
   "mimetype": "text/x-python",
   "name": "python",
   "nbconvert_exporter": "python",
   "pygments_lexer": "ipython3",
   "version": "3.7.9"
  },
  "orig_nbformat": 4
 },
 "nbformat": 4,
 "nbformat_minor": 2
}
